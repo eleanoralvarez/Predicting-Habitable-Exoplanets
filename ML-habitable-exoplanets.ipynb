{
 "cells": [
  {
   "cell_type": "markdown",
   "id": "fdfd8290-b7e3-4e3f-9778-868b0d7695bb",
   "metadata": {},
   "source": [
    "# Predicting Habitable Exoplanets"
   ]
  },
  {
   "cell_type": "markdown",
   "id": "f48e7caf-1c5a-42f1-a395-a3019c32f3d1",
   "metadata": {},
   "source": []
  },
  {
   "cell_type": "code",
   "execution_count": 1,
   "id": "eec07932-80bc-4b29-a1aa-c92f9b9b4176",
   "metadata": {
    "tags": []
   },
   "outputs": [],
   "source": [
    "import pandas as pd\n",
    "import numpy as np\n",
    "import matplotlib.pyplot as plt\n",
    "import seaborn as sns\n",
    "from sklearn import datasets\n",
    "from sklearn.tree import DecisionTreeClassifier\n",
    "from sklearn.model_selection import train_test_split\n",
    "from sklearn.tree import DecisionTreeClassifier, plot_tree\n",
    "from sklearn.linear_model import LinearRegression, LogisticRegression \n",
    "from sklearn.metrics import mean_absolute_error, mean_squared_error\n",
    "from sklearn.metrics import classification_report, ConfusionMatrixDisplay"
   ]
  },
  {
   "cell_type": "code",
   "execution_count": 2,
   "id": "9b2c9371-cbdb-43ae-832b-9b3c3d333129",
   "metadata": {
    "tags": []
   },
   "outputs": [],
   "source": [
    "data = pd.read_csv('hwc.csv')"
   ]
  },
  {
   "cell_type": "code",
   "execution_count": 3,
   "id": "be2a1cb0-bb02-48c9-b81c-4ec4e169240e",
   "metadata": {
    "tags": []
   },
   "outputs": [
    {
     "data": {
      "text/html": [
       "<div>\n",
       "<style scoped>\n",
       "    .dataframe tbody tr th:only-of-type {\n",
       "        vertical-align: middle;\n",
       "    }\n",
       "\n",
       "    .dataframe tbody tr th {\n",
       "        vertical-align: top;\n",
       "    }\n",
       "\n",
       "    .dataframe thead th {\n",
       "        text-align: right;\n",
       "    }\n",
       "</style>\n",
       "<table border=\"1\" class=\"dataframe\">\n",
       "  <thead>\n",
       "    <tr style=\"text-align: right;\">\n",
       "      <th></th>\n",
       "      <th>P_NAME</th>\n",
       "      <th>P_DETECTION</th>\n",
       "      <th>P_DISCOVERY_FACILITY</th>\n",
       "      <th>P_YEAR</th>\n",
       "      <th>P_UPDATE</th>\n",
       "      <th>P_MASS</th>\n",
       "      <th>P_MASS_ERROR_MIN</th>\n",
       "      <th>P_MASS_ERROR_MAX</th>\n",
       "      <th>P_MASS_LIMIT</th>\n",
       "      <th>P_MASS_ORIGIN</th>\n",
       "      <th>...</th>\n",
       "      <th>S_ABIO_ZONE</th>\n",
       "      <th>S_TIDAL_LOCK</th>\n",
       "      <th>P_HABZONE_OPT</th>\n",
       "      <th>P_HABZONE_CON</th>\n",
       "      <th>P_TYPE_TEMP</th>\n",
       "      <th>P_HABITABLE</th>\n",
       "      <th>P_ESI</th>\n",
       "      <th>S_CONSTELLATION</th>\n",
       "      <th>S_CONSTELLATION_ABR</th>\n",
       "      <th>S_CONSTELLATION_ENG</th>\n",
       "    </tr>\n",
       "  </thead>\n",
       "  <tbody>\n",
       "    <tr>\n",
       "      <th>0</th>\n",
       "      <td>OGLE-2016-BLG-1227L b</td>\n",
       "      <td>Microlensing</td>\n",
       "      <td>OGLE</td>\n",
       "      <td>2020</td>\n",
       "      <td>2020-04-02</td>\n",
       "      <td>250.00</td>\n",
       "      <td>-120.0</td>\n",
       "      <td>413.0</td>\n",
       "      <td>0</td>\n",
       "      <td>Mass</td>\n",
       "      <td>...</td>\n",
       "      <td>NaN</td>\n",
       "      <td>0.214133</td>\n",
       "      <td>0</td>\n",
       "      <td>0</td>\n",
       "      <td>NaN</td>\n",
       "      <td>0</td>\n",
       "      <td>NaN</td>\n",
       "      <td>Scorpius</td>\n",
       "      <td>Sco</td>\n",
       "      <td>Scorpion</td>\n",
       "    </tr>\n",
       "    <tr>\n",
       "      <th>1</th>\n",
       "      <td>Kepler-276 c</td>\n",
       "      <td>Transit</td>\n",
       "      <td>Kepler</td>\n",
       "      <td>2013</td>\n",
       "      <td>2018-09-25</td>\n",
       "      <td>16.60</td>\n",
       "      <td>-3.6</td>\n",
       "      <td>4.4</td>\n",
       "      <td>0</td>\n",
       "      <td>Mass</td>\n",
       "      <td>...</td>\n",
       "      <td>2.097783</td>\n",
       "      <td>0.316980</td>\n",
       "      <td>0</td>\n",
       "      <td>0</td>\n",
       "      <td>Hot</td>\n",
       "      <td>0</td>\n",
       "      <td>0.272032</td>\n",
       "      <td>Cygnus</td>\n",
       "      <td>Cyg</td>\n",
       "      <td>Swan</td>\n",
       "    </tr>\n",
       "    <tr>\n",
       "      <th>2</th>\n",
       "      <td>Kepler-829 b</td>\n",
       "      <td>Transit</td>\n",
       "      <td>Kepler</td>\n",
       "      <td>2016</td>\n",
       "      <td>2019-04-16</td>\n",
       "      <td>5.10</td>\n",
       "      <td>NaN</td>\n",
       "      <td>NaN</td>\n",
       "      <td>0</td>\n",
       "      <td>M-R relationship</td>\n",
       "      <td>...</td>\n",
       "      <td>1.756317</td>\n",
       "      <td>0.459559</td>\n",
       "      <td>0</td>\n",
       "      <td>0</td>\n",
       "      <td>Hot</td>\n",
       "      <td>0</td>\n",
       "      <td>0.254763</td>\n",
       "      <td>Lyra</td>\n",
       "      <td>Lyr</td>\n",
       "      <td>Lyre</td>\n",
       "    </tr>\n",
       "    <tr>\n",
       "      <th>3</th>\n",
       "      <td>K2-283 b</td>\n",
       "      <td>Transit</td>\n",
       "      <td>K2</td>\n",
       "      <td>2018</td>\n",
       "      <td>2019-09-05</td>\n",
       "      <td>12.20</td>\n",
       "      <td>NaN</td>\n",
       "      <td>NaN</td>\n",
       "      <td>0</td>\n",
       "      <td>M-R relationship</td>\n",
       "      <td>...</td>\n",
       "      <td>0.568374</td>\n",
       "      <td>0.443760</td>\n",
       "      <td>0</td>\n",
       "      <td>0</td>\n",
       "      <td>Hot</td>\n",
       "      <td>0</td>\n",
       "      <td>0.193906</td>\n",
       "      <td>Pisces</td>\n",
       "      <td>Psc</td>\n",
       "      <td>Fishes</td>\n",
       "    </tr>\n",
       "    <tr>\n",
       "      <th>4</th>\n",
       "      <td>Kepler-477 b</td>\n",
       "      <td>Transit</td>\n",
       "      <td>Kepler</td>\n",
       "      <td>2016</td>\n",
       "      <td>2019-04-16</td>\n",
       "      <td>4.94</td>\n",
       "      <td>NaN</td>\n",
       "      <td>NaN</td>\n",
       "      <td>0</td>\n",
       "      <td>M-R relationship</td>\n",
       "      <td>...</td>\n",
       "      <td>0.768502</td>\n",
       "      <td>0.386150</td>\n",
       "      <td>0</td>\n",
       "      <td>0</td>\n",
       "      <td>Hot</td>\n",
       "      <td>0</td>\n",
       "      <td>0.276721</td>\n",
       "      <td>Lyra</td>\n",
       "      <td>Lyr</td>\n",
       "      <td>Lyre</td>\n",
       "    </tr>\n",
       "  </tbody>\n",
       "</table>\n",
       "<p>5 rows × 118 columns</p>\n",
       "</div>"
      ],
      "text/plain": [
       "                  P_NAME   P_DETECTION P_DISCOVERY_FACILITY  P_YEAR  \\\n",
       "0  OGLE-2016-BLG-1227L b  Microlensing                 OGLE    2020   \n",
       "1           Kepler-276 c       Transit               Kepler    2013   \n",
       "2           Kepler-829 b       Transit               Kepler    2016   \n",
       "3               K2-283 b       Transit                   K2    2018   \n",
       "4           Kepler-477 b       Transit               Kepler    2016   \n",
       "\n",
       "     P_UPDATE  P_MASS  P_MASS_ERROR_MIN  P_MASS_ERROR_MAX  P_MASS_LIMIT  \\\n",
       "0  2020-04-02  250.00            -120.0             413.0             0   \n",
       "1  2018-09-25   16.60              -3.6               4.4             0   \n",
       "2  2019-04-16    5.10               NaN               NaN             0   \n",
       "3  2019-09-05   12.20               NaN               NaN             0   \n",
       "4  2019-04-16    4.94               NaN               NaN             0   \n",
       "\n",
       "      P_MASS_ORIGIN  ...  S_ABIO_ZONE  S_TIDAL_LOCK  P_HABZONE_OPT  \\\n",
       "0              Mass  ...          NaN      0.214133              0   \n",
       "1              Mass  ...     2.097783      0.316980              0   \n",
       "2  M-R relationship  ...     1.756317      0.459559              0   \n",
       "3  M-R relationship  ...     0.568374      0.443760              0   \n",
       "4  M-R relationship  ...     0.768502      0.386150              0   \n",
       "\n",
       "   P_HABZONE_CON  P_TYPE_TEMP  P_HABITABLE     P_ESI  S_CONSTELLATION  \\\n",
       "0              0          NaN            0       NaN         Scorpius   \n",
       "1              0          Hot            0  0.272032           Cygnus   \n",
       "2              0          Hot            0  0.254763             Lyra   \n",
       "3              0          Hot            0  0.193906           Pisces   \n",
       "4              0          Hot            0  0.276721             Lyra   \n",
       "\n",
       "   S_CONSTELLATION_ABR  S_CONSTELLATION_ENG  \n",
       "0                  Sco             Scorpion  \n",
       "1                  Cyg                 Swan  \n",
       "2                  Lyr                 Lyre  \n",
       "3                  Psc               Fishes  \n",
       "4                  Lyr                 Lyre  \n",
       "\n",
       "[5 rows x 118 columns]"
      ]
     },
     "execution_count": 3,
     "metadata": {},
     "output_type": "execute_result"
    }
   ],
   "source": [
    "data.head()"
   ]
  },
  {
   "cell_type": "code",
   "execution_count": 5,
   "id": "7841600a-d785-458c-a718-726e8544d316",
   "metadata": {
    "tags": []
   },
   "outputs": [
    {
     "name": "stdout",
     "output_type": "stream",
     "text": [
      "<class 'pandas.core.frame.DataFrame'>\n",
      "RangeIndex: 5569 entries, 0 to 5568\n",
      "Columns: 118 entries, P_NAME to S_CONSTELLATION_ENG\n",
      "dtypes: float64(81), int64(18), object(19)\n",
      "memory usage: 5.0+ MB\n"
     ]
    }
   ],
   "source": [
    "data.info()"
   ]
  },
  {
   "cell_type": "code",
   "execution_count": 6,
   "id": "25fd5406-ea04-46bc-894c-f7da9a03eaa2",
   "metadata": {
    "collapsed": true,
    "jupyter": {
     "outputs_hidden": true
    },
    "tags": []
   },
   "outputs": [
    {
     "data": {
      "text/plain": [
       "P_NAME                          object\n",
       "P_DETECTION                     object\n",
       "P_DISCOVERY_FACILITY            object\n",
       "P_YEAR                           int64\n",
       "P_UPDATE                        object\n",
       "P_MASS                         float64\n",
       "P_MASS_ERROR_MIN               float64\n",
       "P_MASS_ERROR_MAX               float64\n",
       "P_MASS_LIMIT                     int64\n",
       "P_MASS_ORIGIN                   object\n",
       "P_RADIUS                       float64\n",
       "P_RADIUS_ERROR_MIN             float64\n",
       "P_RADIUS_ERROR_MAX             float64\n",
       "P_RADIUS_LIMIT                   int64\n",
       "P_PERIOD                       float64\n",
       "P_PERIOD_ERROR_MIN             float64\n",
       "P_PERIOD_ERROR_MAX             float64\n",
       "P_PERIOD_LIMIT                   int64\n",
       "P_SEMI_MAJOR_AXIS              float64\n",
       "P_SEMI_MAJOR_AXIS_ERROR_MIN    float64\n",
       "P_SEMI_MAJOR_AXIS_ERROR_MAX    float64\n",
       "P_SEMI_MAJOR_AXIS_LIMIT          int64\n",
       "P_ECCENTRICITY                 float64\n",
       "P_ECCENTRICITY_ERROR_MIN       float64\n",
       "P_ECCENTRICITY_ERROR_MAX       float64\n",
       "P_ECCENTRICITY_LIMIT             int64\n",
       "P_INCLINATION                  float64\n",
       "P_INCLINATION_ERROR_MIN        float64\n",
       "P_INCLINATION_ERROR_MAX        float64\n",
       "P_INCLINATION_LIMIT              int64\n",
       "P_OMEGA                        float64\n",
       "P_OMEGA_ERROR_MIN              float64\n",
       "P_OMEGA_ERROR_MAX              float64\n",
       "P_OMEGA_LIMIT                    int64\n",
       "S_NAME                          object\n",
       "S_NAME_HD                       object\n",
       "S_NAME_HIP                      object\n",
       "S_TYPE                          object\n",
       "S_RA                           float64\n",
       "S_DEC                          float64\n",
       "S_RA_STR                        object\n",
       "S_DEC_STR                       object\n",
       "S_MAG                          float64\n",
       "S_MAG_ERROR_MIN                float64\n",
       "S_MAG_ERROR_MAX                float64\n",
       "S_DISTANCE                     float64\n",
       "S_DISTANCE_ERROR_MIN           float64\n",
       "S_DISTANCE_ERROR_MAX           float64\n",
       "S_TEMPERATURE                  float64\n",
       "S_TEMPERATURE_ERROR_MIN        float64\n",
       "S_TEMPERATURE_ERROR_MAX        float64\n",
       "S_TEMPERATURE_LIMIT              int64\n",
       "S_MASS                         float64\n",
       "S_MASS_ERROR_MIN               float64\n",
       "S_MASS_ERROR_MAX               float64\n",
       "S_MASS_LIMIT                     int64\n",
       "S_RADIUS                       float64\n",
       "S_RADIUS_ERROR_MIN             float64\n",
       "S_RADIUS_ERROR_MAX             float64\n",
       "S_RADIUS_LIMIT                   int64\n",
       "S_METALLICITY                  float64\n",
       "S_METALLICITY_ERROR_MIN        float64\n",
       "S_METALLICITY_ERROR_MAX        float64\n",
       "S_METALLICITY_LIMIT              int64\n",
       "S_AGE                          float64\n",
       "S_AGE_ERROR_MIN                float64\n",
       "S_AGE_ERROR_MAX                float64\n",
       "S_AGE_LIMIT                      int64\n",
       "S_LOG_LUM                      float64\n",
       "S_LOG_LUM_ERROR_MIN            float64\n",
       "S_LOG_LUM_ERROR_MAX            float64\n",
       "S_LOG_LUM_LIMIT                  int64\n",
       "S_LOG_G                        float64\n",
       "S_LOG_G_ERROR_MIN              float64\n",
       "S_LOG_G_ERROR_MAX              float64\n",
       "S_LOG_G_LIMIT                    int64\n",
       "P_ESCAPE                       float64\n",
       "P_POTENTIAL                    float64\n",
       "P_GRAVITY                      float64\n",
       "P_DENSITY                      float64\n",
       "P_HILL_SPHERE                  float64\n",
       "P_DISTANCE                     float64\n",
       "P_PERIASTRON                   float64\n",
       "P_APASTRON                     float64\n",
       "P_DISTANCE_EFF                 float64\n",
       "P_FLUX                         float64\n",
       "P_FLUX_MIN                     float64\n",
       "P_FLUX_MAX                     float64\n",
       "P_TEMP_EQUIL                   float64\n",
       "P_TEMP_EQUIL_MIN               float64\n",
       "P_TEMP_EQUIL_MAX               float64\n",
       "P_TEMP_SURF                    float64\n",
       "P_TEMP_SURF_MIN                float64\n",
       "P_TEMP_SURF_MAX                float64\n",
       "P_TYPE                          object\n",
       "S_TYPE_TEMP                     object\n",
       "S_RA_TXT                        object\n",
       "S_DEC_TXT                       object\n",
       "S_LUMINOSITY                   float64\n",
       "S_HZ_OPT_MIN                   float64\n",
       "S_HZ_OPT_MAX                   float64\n",
       "S_HZ_CON_MIN                   float64\n",
       "S_HZ_CON_MAX                   float64\n",
       "S_HZ_CON0_MIN                  float64\n",
       "S_HZ_CON0_MAX                  float64\n",
       "S_HZ_CON1_MIN                  float64\n",
       "S_HZ_CON1_MAX                  float64\n",
       "S_SNOW_LINE                    float64\n",
       "S_ABIO_ZONE                    float64\n",
       "S_TIDAL_LOCK                   float64\n",
       "P_HABZONE_OPT                    int64\n",
       "P_HABZONE_CON                    int64\n",
       "P_TYPE_TEMP                     object\n",
       "P_HABITABLE                      int64\n",
       "P_ESI                          float64\n",
       "S_CONSTELLATION                 object\n",
       "S_CONSTELLATION_ABR             object\n",
       "S_CONSTELLATION_ENG             object\n",
       "dtype: object"
      ]
     },
     "execution_count": 6,
     "metadata": {},
     "output_type": "execute_result"
    }
   ],
   "source": [
    "pd.options.display.max_rows = 200\n",
    "data.dtypes"
   ]
  },
  {
   "cell_type": "markdown",
   "id": "3a1c7685-0f74-4e8f-9999-e29c20e1fe99",
   "metadata": {
    "tags": []
   },
   "source": [
    "### Sort columns from most null values - least null values\n",
    "\n",
    "Column name  [null count, percent nulls]"
   ]
  },
  {
   "cell_type": "code",
   "execution_count": 8,
   "id": "a0b72063-4849-4f49-9f91-4854d7dd790d",
   "metadata": {
    "tags": []
   },
   "outputs": [],
   "source": [
    "nulls = {}\n",
    "\n",
    "for column in data.columns: \n",
    "    if data[column].isna().sum() > 0:\n",
    "        nulls[column] = [data[column].isna().sum(),((data[column].isna().sum())/5569)*100]\n",
    "        \n",
    "nulls = pd.Series(nulls)\n",
    "nulls = nulls.sort_values(ascending=False)\n"
   ]
  },
  {
   "cell_type": "code",
   "execution_count": 5,
   "id": "b3fd9b1f-6309-429c-9252-58bcde1f512e",
   "metadata": {
    "tags": []
   },
   "outputs": [
    {
     "data": {
      "text/plain": [
       "S_NAME_HD                    [4603, 82.6539773747531]\n",
       "S_NAME_HIP                  [4554, 81.77410666187825]\n",
       "P_OMEGA_ERROR_MAX           [4063, 72.95744298796912]\n",
       "P_OMEGA_ERROR_MIN           [4063, 72.95744298796912]\n",
       "P_ECCENTRICITY_ERROR_MIN    [3976, 71.39522355898725]\n",
       "                                      ...            \n",
       "P_DISTANCE                   [4, 0.07182618064284432]\n",
       "P_PERIASTRON                 [4, 0.07182618064284432]\n",
       "S_TIDAL_LOCK                 [4, 0.07182618064284432]\n",
       "P_APASTRON                   [4, 0.07182618064284432]\n",
       "S_MASS                       [4, 0.07182618064284432]\n",
       "Length: 85, dtype: object"
      ]
     },
     "execution_count": 5,
     "metadata": {},
     "output_type": "execute_result"
    }
   ],
   "source": [
    "nulls"
   ]
  },
  {
   "cell_type": "markdown",
   "id": "f481ef9d-2897-45b3-8e0a-ada2d8fbf1ea",
   "metadata": {
    "tags": []
   },
   "source": [
    "### Delete columns with null values > 40%"
   ]
  },
  {
   "cell_type": "code",
   "execution_count": 4,
   "id": "a65dce52-a31c-4709-a459-a8f93d2dc913",
   "metadata": {
    "tags": []
   },
   "outputs": [],
   "source": [
    "data.drop(columns=[\"S_NAME_HD\",\"S_NAME_HIP\",\"P_OMEGA_ERROR_MAX\",\"P_OMEGA_ERROR_MIN\",\"P_ECCENTRICITY_ERROR_MIN\",\"P_ECCENTRICITY_ERROR_MAX\",\"P_OMEGA\",\n",
    "                   \"P_INCLINATION_ERROR_MAX\",\"P_INCLINATION_ERROR_MIN\",\"S_TYPE\",\"P_TEMP_SURF\",\"P_MASS_ERROR_MIN\",\"P_MASS_ERROR_MAX\",\"P_SEMI_MAJOR_AXIS_ERROR_MAX\",\n",
    "                   \"P_SEMI_MAJOR_AXIS_ERROR_MIN\",\"S_LOG_LUM_ERROR_MIN\",\"S_LOG_LUM_ERROR_MAX\"], inplace=True)"
   ]
  },
  {
   "cell_type": "code",
   "execution_count": 4,
   "id": "c8b67b9c-405c-4119-8613-4b24b960ecc5",
   "metadata": {
    "tags": []
   },
   "outputs": [
    {
     "data": {
      "text/plain": [
       "dtype('O')"
      ]
     },
     "execution_count": 4,
     "metadata": {},
     "output_type": "execute_result"
    }
   ],
   "source": [
    "data['P_TYPE'].dtypes"
   ]
  },
  {
   "cell_type": "code",
   "execution_count": 9,
   "id": "bf0c2683-debc-47b6-85ec-a868cb45e5a8",
   "metadata": {
    "tags": []
   },
   "outputs": [
    {
     "data": {
      "text/plain": [
       "68"
      ]
     },
     "execution_count": 9,
     "metadata": {},
     "output_type": "execute_result"
    }
   ],
   "source": [
    "nulls.count()"
   ]
  },
  {
   "cell_type": "markdown",
   "id": "a81548b3-9326-431c-83d8-17e8c3a0a653",
   "metadata": {
    "tags": []
   },
   "source": [
    "### Among the remaining columns with null values, find those with type = str"
   ]
  },
  {
   "cell_type": "code",
   "execution_count": 10,
   "id": "5eb7e272-9abc-4659-8aab-b694d375c6f0",
   "metadata": {
    "tags": []
   },
   "outputs": [
    {
     "data": {
      "text/plain": [
       "['P_TYPE', 'S_TYPE_TEMP', 'P_TYPE_TEMP']"
      ]
     },
     "execution_count": 10,
     "metadata": {},
     "output_type": "execute_result"
    }
   ],
   "source": [
    "objects = []\n",
    "for column in data.columns:\n",
    "    if data[column].isna().sum() > 0 and data[column].dtype == 'O':\n",
    "        objects.append(column)\n",
    "\n",
    "objects"
   ]
  },
  {
   "cell_type": "markdown",
   "id": "0a6b2670-8f15-426c-aac4-ca1304b2f146",
   "metadata": {},
   "source": [
    "### Mode imputation"
   ]
  },
  {
   "cell_type": "code",
   "execution_count": 5,
   "id": "4bef63ed-4e60-4eb3-a0a6-c6dd8810a494",
   "metadata": {
    "tags": []
   },
   "outputs": [],
   "source": [
    "data['P_TYPE_TEMP'] = data['P_TYPE_TEMP'].fillna(data['P_TYPE_TEMP'].mode()[0])\n",
    "data['S_TYPE_TEMP'] = data['S_TYPE_TEMP'].fillna(data['S_TYPE_TEMP'].mode()[0])\n",
    "data['P_TYPE'] = data['P_TYPE'].fillna(data['P_TYPE'].mode()[0])"
   ]
  },
  {
   "cell_type": "code",
   "execution_count": 6,
   "id": "ff399619-e0cc-494d-b904-a1d4cf9aa068",
   "metadata": {
    "tags": []
   },
   "outputs": [
    {
     "data": {
      "text/plain": [
       "[]"
      ]
     },
     "execution_count": 6,
     "metadata": {},
     "output_type": "execute_result"
    }
   ],
   "source": [
    "objects = []\n",
    "for column in data.columns:\n",
    "    if data[column].isna().sum() > 0 and data[column].dtype == 'O':\n",
    "        objects.append(column)\n",
    "\n",
    "objects"
   ]
  },
  {
   "cell_type": "code",
   "execution_count": 15,
   "id": "ef17e9b1-455f-45ad-9942-c37288a288f2",
   "metadata": {
    "tags": []
   },
   "outputs": [
    {
     "name": "stdout",
     "output_type": "stream",
     "text": [
      "<class 'pandas.core.frame.DataFrame'>\n",
      "RangeIndex: 5569 entries, 0 to 5568\n",
      "Columns: 101 entries, P_NAME to S_CONSTELLATION_ENG\n",
      "dtypes: float64(67), int64(18), object(16)\n",
      "memory usage: 4.3+ MB\n"
     ]
    }
   ],
   "source": [
    "data.info()"
   ]
  },
  {
   "cell_type": "markdown",
   "id": "a270552f-89bb-41e0-ab3b-b0aa374461b6",
   "metadata": {
    "tags": []
   },
   "source": [
    "### Find all columns with type = str"
   ]
  },
  {
   "cell_type": "code",
   "execution_count": 7,
   "id": "68ff5868-2433-44ef-9bad-8078db5913f7",
   "metadata": {
    "tags": []
   },
   "outputs": [],
   "source": [
    "copydata = data.copy()"
   ]
  },
  {
   "cell_type": "code",
   "execution_count": 9,
   "id": "2326b2f1-8122-4e5b-9921-56f5fabcfe28",
   "metadata": {
    "tags": []
   },
   "outputs": [
    {
     "data": {
      "text/plain": [
       "['P_NAME',\n",
       " 'P_DETECTION',\n",
       " 'P_DISCOVERY_FACILITY',\n",
       " 'P_UPDATE',\n",
       " 'P_MASS_ORIGIN',\n",
       " 'S_NAME',\n",
       " 'S_RA_STR',\n",
       " 'S_DEC_STR',\n",
       " 'P_TYPE',\n",
       " 'S_TYPE_TEMP',\n",
       " 'S_RA_TXT',\n",
       " 'S_DEC_TXT',\n",
       " 'P_TYPE_TEMP',\n",
       " 'S_CONSTELLATION',\n",
       " 'S_CONSTELLATION_ABR',\n",
       " 'S_CONSTELLATION_ENG']"
      ]
     },
     "execution_count": 9,
     "metadata": {},
     "output_type": "execute_result"
    }
   ],
   "source": [
    "objs = copydata.select_dtypes(include='O')\n",
    "list(objs)"
   ]
  },
  {
   "cell_type": "code",
   "execution_count": null,
   "id": "7876bc28-f604-4263-816f-44122dea7053",
   "metadata": {
    "tags": []
   },
   "outputs": [],
   "source": []
  },
  {
   "cell_type": "markdown",
   "id": "146e23bf-5104-48f7-ad6e-c0d83998d511",
   "metadata": {
    "tags": []
   },
   "source": [
    "### Encode all columns with type = str using LabelEncoder"
   ]
  },
  {
   "cell_type": "code",
   "execution_count": 10,
   "id": "f893793f-7dbd-479d-a981-2b9ee30ea6e1",
   "metadata": {
    "tags": []
   },
   "outputs": [],
   "source": [
    "from sklearn.preprocessing import LabelEncoder \n",
    "  \n",
    "collist = list(objs)\n",
    "\n",
    "for col in collist:\n",
    "    encoder = LabelEncoder() \n",
    "    copydata[col] = encoder.fit_transform(copydata[col])\n"
   ]
  },
  {
   "cell_type": "code",
   "execution_count": 8,
   "id": "11fd7e84-f6e1-463e-bd65-ee12f69e98ae",
   "metadata": {
    "tags": []
   },
   "outputs": [
    {
     "data": {
      "text/plain": [
       "[]"
      ]
     },
     "execution_count": 8,
     "metadata": {},
     "output_type": "execute_result"
    }
   ],
   "source": [
    "strings = copydata.select_dtypes(include='O')\n",
    "list(strings)"
   ]
  },
  {
   "cell_type": "markdown",
   "id": "172f3032-4878-466b-af38-21c8908c3b3c",
   "metadata": {},
   "source": [
    "### Drop all error columns because they are outside the scope of this project"
   ]
  },
  {
   "cell_type": "code",
   "execution_count": 11,
   "id": "c6a0b143-b6f0-4548-a226-dc21e80f74b5",
   "metadata": {
    "tags": []
   },
   "outputs": [],
   "source": [
    "for col in copydata.columns:\n",
    "    if \"ERROR\" in col: \n",
    "        copydata.drop(columns=col, inplace=True)"
   ]
  },
  {
   "cell_type": "code",
   "execution_count": null,
   "id": "0b8dbc9c-3365-436b-bb7a-e5d767a00792",
   "metadata": {
    "tags": []
   },
   "outputs": [],
   "source": []
  },
  {
   "cell_type": "code",
   "execution_count": 19,
   "id": "eedcda04-836f-4556-97f8-c812301cc525",
   "metadata": {
    "tags": []
   },
   "outputs": [
    {
     "data": {
      "text/plain": [
       "[]"
      ]
     },
     "execution_count": 19,
     "metadata": {},
     "output_type": "execute_result"
    }
   ],
   "source": [
    "bools = list(copydata.select_dtypes(include='bool'))\n",
    "bools"
   ]
  },
  {
   "cell_type": "code",
   "execution_count": 20,
   "id": "5aef9682-1155-4b3c-bfc7-a313a7af505e",
   "metadata": {
    "tags": []
   },
   "outputs": [
    {
     "data": {
      "text/plain": [
       "89"
      ]
     },
     "execution_count": 20,
     "metadata": {},
     "output_type": "execute_result"
    }
   ],
   "source": [
    "corr_matrix = copydata.corr().abs()\n",
    "s = corr_matrix.unstack()\n",
    "so = s.sort_values(ascending=False)\n",
    "count=0\n",
    "for value in so: \n",
    "    if value == 1:\n",
    "        count+=1\n",
    "\n",
    "count"
   ]
  },
  {
   "cell_type": "code",
   "execution_count": 21,
   "id": "76e87c2c-1ad2-4f45-aa28-7a2bde8bed08",
   "metadata": {
    "tags": []
   },
   "outputs": [
    {
     "data": {
      "text/plain": [
       "P_TEMP_EQUIL_MAX   P_TEMP_SURF_MAX      1.000000\n",
       "P_TEMP_SURF_MAX    P_TEMP_EQUIL_MAX     1.000000\n",
       "P_TEMP_SURF_MIN    P_TEMP_EQUIL_MIN     1.000000\n",
       "P_TEMP_EQUIL_MIN   P_TEMP_SURF_MIN      1.000000\n",
       "S_HZ_OPT_MAX       S_HZ_CON1_MAX        1.000000\n",
       "                   S_HZ_CON_MAX         1.000000\n",
       "S_HZ_CON_MAX       S_HZ_OPT_MAX         1.000000\n",
       "S_HZ_CON1_MAX      S_HZ_OPT_MAX         1.000000\n",
       "S_HZ_OPT_MAX       S_HZ_CON0_MAX        1.000000\n",
       "S_HZ_CON0_MAX      S_HZ_OPT_MAX         1.000000\n",
       "S_HZ_OPT_MIN       S_HZ_CON_MIN         1.000000\n",
       "S_HZ_CON_MIN       S_HZ_OPT_MIN         1.000000\n",
       "S_HZ_CON1_MIN      S_HZ_CON_MIN         1.000000\n",
       "S_HZ_CON_MIN       S_HZ_CON1_MIN        1.000000\n",
       "S_HZ_CON1_MIN      S_HZ_OPT_MIN         1.000000\n",
       "S_HZ_OPT_MIN       S_HZ_CON1_MIN        1.000000\n",
       "S_HZ_CON1_MIN      S_HZ_CON0_MIN        0.999999\n",
       "S_HZ_CON0_MIN      S_HZ_CON1_MIN        0.999999\n",
       "S_HZ_CON_MIN       S_HZ_CON0_MIN        0.999999\n",
       "S_HZ_CON0_MIN      S_HZ_CON_MIN         0.999999\n",
       "S_HZ_OPT_MIN       S_HZ_CON0_MIN        0.999999\n",
       "S_HZ_CON0_MIN      S_HZ_OPT_MIN         0.999999\n",
       "P_SEMI_MAJOR_AXIS  P_DISTANCE_EFF       0.999992\n",
       "P_DISTANCE_EFF     P_SEMI_MAJOR_AXIS    0.999992\n",
       "P_FLUX             P_FLUX_MIN           0.999979\n",
       "P_FLUX_MIN         P_FLUX               0.999979\n",
       "P_DISTANCE_EFF     P_DISTANCE           0.999959\n",
       "P_DISTANCE         P_DISTANCE_EFF       0.999959\n",
       "P_SEMI_MAJOR_AXIS  P_DISTANCE           0.999915\n",
       "P_DISTANCE         P_SEMI_MAJOR_AXIS    0.999915\n",
       "P_APASTRON         P_DISTANCE           0.999572\n",
       "P_DISTANCE         P_APASTRON           0.999572\n",
       "S_HZ_CON0_MIN      S_HZ_CON0_MAX        0.999363\n",
       "                   S_HZ_CON1_MAX        0.999363\n",
       "S_HZ_CON1_MAX      S_HZ_CON0_MIN        0.999363\n",
       "S_HZ_CON0_MAX      S_HZ_CON0_MIN        0.999363\n",
       "S_HZ_CON0_MIN      S_HZ_CON_MAX         0.999363\n",
       "S_HZ_CON_MAX       S_HZ_CON0_MIN        0.999363\n",
       "S_HZ_OPT_MAX       S_HZ_CON0_MIN        0.999363\n",
       "S_HZ_CON0_MIN      S_HZ_OPT_MAX         0.999363\n",
       "P_FLUX_MAX         P_FLUX               0.999350\n",
       "P_FLUX             P_FLUX_MAX           0.999350\n",
       "S_HZ_CON1_MIN      S_HZ_CON1_MAX        0.999323\n",
       "S_HZ_CON1_MAX      S_HZ_CON1_MIN        0.999323\n",
       "S_HZ_CON1_MIN      S_HZ_CON0_MAX        0.999323\n",
       "                   S_HZ_CON_MAX         0.999323\n",
       "S_HZ_CON_MAX       S_HZ_CON1_MIN        0.999323\n",
       "S_HZ_CON0_MAX      S_HZ_CON1_MIN        0.999323\n",
       "S_HZ_CON1_MIN      S_HZ_OPT_MAX         0.999322\n",
       "dtype: float64"
      ]
     },
     "execution_count": 21,
     "metadata": {},
     "output_type": "execute_result"
    }
   ],
   "source": [
    "sos = so[89:]\n",
    "count=0\n",
    "for value in sos: \n",
    "    if value >= .95:\n",
    "        count+=1\n",
    "count\n",
    "\n",
    "pd.options.display.max_rows = 300\n",
    "sos[:49]"
   ]
  },
  {
   "cell_type": "code",
   "execution_count": 22,
   "id": "368d06f7-3aae-450e-af2b-98ebd379307f",
   "metadata": {
    "collapsed": true,
    "jupyter": {
     "outputs_hidden": true
    },
    "tags": []
   },
   "outputs": [
    {
     "data": {
      "text/html": [
       "<div>\n",
       "<style scoped>\n",
       "    .dataframe tbody tr th:only-of-type {\n",
       "        vertical-align: middle;\n",
       "    }\n",
       "\n",
       "    .dataframe tbody tr th {\n",
       "        vertical-align: top;\n",
       "    }\n",
       "\n",
       "    .dataframe thead th {\n",
       "        text-align: right;\n",
       "    }\n",
       "</style>\n",
       "<table border=\"1\" class=\"dataframe\">\n",
       "  <thead>\n",
       "    <tr style=\"text-align: right;\">\n",
       "      <th></th>\n",
       "      <th>P_HABITABLE</th>\n",
       "    </tr>\n",
       "  </thead>\n",
       "  <tbody>\n",
       "    <tr>\n",
       "      <th>P_HABITABLE</th>\n",
       "      <td>1.000000</td>\n",
       "    </tr>\n",
       "    <tr>\n",
       "      <th>P_HABZONE_OPT</th>\n",
       "      <td>0.479930</td>\n",
       "    </tr>\n",
       "    <tr>\n",
       "      <th>P_ESI</th>\n",
       "      <td>0.387213</td>\n",
       "    </tr>\n",
       "    <tr>\n",
       "      <th>P_TYPE_TEMP</th>\n",
       "      <td>0.326450</td>\n",
       "    </tr>\n",
       "    <tr>\n",
       "      <th>P_HABZONE_CON</th>\n",
       "      <td>0.317465</td>\n",
       "    </tr>\n",
       "    <tr>\n",
       "      <th>S_LOG_LUM</th>\n",
       "      <td>0.206002</td>\n",
       "    </tr>\n",
       "    <tr>\n",
       "      <th>S_TYPE_TEMP</th>\n",
       "      <td>0.150383</td>\n",
       "    </tr>\n",
       "    <tr>\n",
       "      <th>S_AGE_LIMIT</th>\n",
       "      <td>0.130480</td>\n",
       "    </tr>\n",
       "    <tr>\n",
       "      <th>S_LOG_G_LIMIT</th>\n",
       "      <td>0.130480</td>\n",
       "    </tr>\n",
       "    <tr>\n",
       "      <th>S_TIDAL_LOCK</th>\n",
       "      <td>0.128172</td>\n",
       "    </tr>\n",
       "    <tr>\n",
       "      <th>P_TEMP_EQUIL</th>\n",
       "      <td>0.124525</td>\n",
       "    </tr>\n",
       "    <tr>\n",
       "      <th>P_TEMP_EQUIL_MAX</th>\n",
       "      <td>0.124112</td>\n",
       "    </tr>\n",
       "    <tr>\n",
       "      <th>P_TEMP_SURF_MAX</th>\n",
       "      <td>0.124112</td>\n",
       "    </tr>\n",
       "    <tr>\n",
       "      <th>P_TEMP_EQUIL_MIN</th>\n",
       "      <td>0.123961</td>\n",
       "    </tr>\n",
       "    <tr>\n",
       "      <th>P_TEMP_SURF_MIN</th>\n",
       "      <td>0.123961</td>\n",
       "    </tr>\n",
       "    <tr>\n",
       "      <th>S_MASS</th>\n",
       "      <td>0.121056</td>\n",
       "    </tr>\n",
       "    <tr>\n",
       "      <th>S_LOG_G</th>\n",
       "      <td>0.103750</td>\n",
       "    </tr>\n",
       "    <tr>\n",
       "      <th>P_TYPE</th>\n",
       "      <td>0.099970</td>\n",
       "    </tr>\n",
       "    <tr>\n",
       "      <th>S_TEMPERATURE</th>\n",
       "      <td>0.095672</td>\n",
       "    </tr>\n",
       "    <tr>\n",
       "      <th>P_RADIUS</th>\n",
       "      <td>0.076241</td>\n",
       "    </tr>\n",
       "    <tr>\n",
       "      <th>S_METALLICITY</th>\n",
       "      <td>0.068548</td>\n",
       "    </tr>\n",
       "    <tr>\n",
       "      <th>P_MASS_ORIGIN</th>\n",
       "      <td>0.062660</td>\n",
       "    </tr>\n",
       "    <tr>\n",
       "      <th>S_DISTANCE</th>\n",
       "      <td>0.049997</td>\n",
       "    </tr>\n",
       "    <tr>\n",
       "      <th>P_ESCAPE</th>\n",
       "      <td>0.046971</td>\n",
       "    </tr>\n",
       "    <tr>\n",
       "      <th>S_SNOW_LINE</th>\n",
       "      <td>0.046953</td>\n",
       "    </tr>\n",
       "    <tr>\n",
       "      <th>S_HZ_OPT_MIN</th>\n",
       "      <td>0.045245</td>\n",
       "    </tr>\n",
       "    <tr>\n",
       "      <th>S_HZ_CON_MIN</th>\n",
       "      <td>0.045245</td>\n",
       "    </tr>\n",
       "    <tr>\n",
       "      <th>S_HZ_CON1_MIN</th>\n",
       "      <td>0.045244</td>\n",
       "    </tr>\n",
       "    <tr>\n",
       "      <th>S_HZ_CON0_MIN</th>\n",
       "      <td>0.045195</td>\n",
       "    </tr>\n",
       "    <tr>\n",
       "      <th>S_HZ_CON_MAX</th>\n",
       "      <td>0.043394</td>\n",
       "    </tr>\n",
       "    <tr>\n",
       "      <th>S_HZ_CON1_MAX</th>\n",
       "      <td>0.043394</td>\n",
       "    </tr>\n",
       "    <tr>\n",
       "      <th>S_HZ_CON0_MAX</th>\n",
       "      <td>0.043394</td>\n",
       "    </tr>\n",
       "    <tr>\n",
       "      <th>S_HZ_OPT_MAX</th>\n",
       "      <td>0.043394</td>\n",
       "    </tr>\n",
       "    <tr>\n",
       "      <th>S_RA_STR</th>\n",
       "      <td>0.034272</td>\n",
       "    </tr>\n",
       "    <tr>\n",
       "      <th>S_RA_TXT</th>\n",
       "      <td>0.034272</td>\n",
       "    </tr>\n",
       "    <tr>\n",
       "      <th>S_RA</th>\n",
       "      <td>0.033007</td>\n",
       "    </tr>\n",
       "    <tr>\n",
       "      <th>P_ECCENTRICITY</th>\n",
       "      <td>0.032966</td>\n",
       "    </tr>\n",
       "    <tr>\n",
       "      <th>S_DEC</th>\n",
       "      <td>0.030757</td>\n",
       "    </tr>\n",
       "    <tr>\n",
       "      <th>S_RADIUS</th>\n",
       "      <td>0.027975</td>\n",
       "    </tr>\n",
       "    <tr>\n",
       "      <th>P_MASS_LIMIT</th>\n",
       "      <td>0.027510</td>\n",
       "    </tr>\n",
       "    <tr>\n",
       "      <th>S_DEC_STR</th>\n",
       "      <td>0.026677</td>\n",
       "    </tr>\n",
       "    <tr>\n",
       "      <th>S_DEC_TXT</th>\n",
       "      <td>0.026677</td>\n",
       "    </tr>\n",
       "    <tr>\n",
       "      <th>P_POTENTIAL</th>\n",
       "      <td>0.025171</td>\n",
       "    </tr>\n",
       "    <tr>\n",
       "      <th>P_INCLINATION</th>\n",
       "      <td>0.025100</td>\n",
       "    </tr>\n",
       "    <tr>\n",
       "      <th>S_MAG</th>\n",
       "      <td>0.023222</td>\n",
       "    </tr>\n",
       "    <tr>\n",
       "      <th>P_UPDATE</th>\n",
       "      <td>0.022641</td>\n",
       "    </tr>\n",
       "    <tr>\n",
       "      <th>S_CONSTELLATION_ENG</th>\n",
       "      <td>0.020016</td>\n",
       "    </tr>\n",
       "    <tr>\n",
       "      <th>P_YEAR</th>\n",
       "      <td>0.019998</td>\n",
       "    </tr>\n",
       "    <tr>\n",
       "      <th>P_MASS</th>\n",
       "      <td>0.019622</td>\n",
       "    </tr>\n",
       "    <tr>\n",
       "      <th>P_NAME</th>\n",
       "      <td>0.017414</td>\n",
       "    </tr>\n",
       "    <tr>\n",
       "      <th>S_NAME</th>\n",
       "      <td>0.017326</td>\n",
       "    </tr>\n",
       "    <tr>\n",
       "      <th>P_GRAVITY</th>\n",
       "      <td>0.017225</td>\n",
       "    </tr>\n",
       "    <tr>\n",
       "      <th>S_AGE</th>\n",
       "      <td>0.015338</td>\n",
       "    </tr>\n",
       "    <tr>\n",
       "      <th>P_ECCENTRICITY_LIMIT</th>\n",
       "      <td>0.008494</td>\n",
       "    </tr>\n",
       "    <tr>\n",
       "      <th>P_DISCOVERY_FACILITY</th>\n",
       "      <td>0.008272</td>\n",
       "    </tr>\n",
       "    <tr>\n",
       "      <th>S_LUMINOSITY</th>\n",
       "      <td>0.007762</td>\n",
       "    </tr>\n",
       "    <tr>\n",
       "      <th>P_FLUX_MAX</th>\n",
       "      <td>0.005577</td>\n",
       "    </tr>\n",
       "    <tr>\n",
       "      <th>P_DETECTION</th>\n",
       "      <td>0.005507</td>\n",
       "    </tr>\n",
       "    <tr>\n",
       "      <th>P_FLUX</th>\n",
       "      <td>0.005271</td>\n",
       "    </tr>\n",
       "    <tr>\n",
       "      <th>P_FLUX_MIN</th>\n",
       "      <td>0.005160</td>\n",
       "    </tr>\n",
       "    <tr>\n",
       "      <th>P_APASTRON</th>\n",
       "      <td>0.005142</td>\n",
       "    </tr>\n",
       "    <tr>\n",
       "      <th>P_DISTANCE</th>\n",
       "      <td>0.005002</td>\n",
       "    </tr>\n",
       "    <tr>\n",
       "      <th>P_DISTANCE_EFF</th>\n",
       "      <td>0.004965</td>\n",
       "    </tr>\n",
       "    <tr>\n",
       "      <th>P_SEMI_MAJOR_AXIS</th>\n",
       "      <td>0.004949</td>\n",
       "    </tr>\n",
       "    <tr>\n",
       "      <th>P_HILL_SPHERE</th>\n",
       "      <td>0.004838</td>\n",
       "    </tr>\n",
       "    <tr>\n",
       "      <th>P_PERIASTRON</th>\n",
       "      <td>0.004745</td>\n",
       "    </tr>\n",
       "    <tr>\n",
       "      <th>S_METALLICITY_LIMIT</th>\n",
       "      <td>0.002865</td>\n",
       "    </tr>\n",
       "    <tr>\n",
       "      <th>P_RADIUS_LIMIT</th>\n",
       "      <td>0.002865</td>\n",
       "    </tr>\n",
       "    <tr>\n",
       "      <th>P_INCLINATION_LIMIT</th>\n",
       "      <td>0.002562</td>\n",
       "    </tr>\n",
       "    <tr>\n",
       "      <th>P_SEMI_MAJOR_AXIS_LIMIT</th>\n",
       "      <td>0.002481</td>\n",
       "    </tr>\n",
       "    <tr>\n",
       "      <th>S_ABIO_ZONE</th>\n",
       "      <td>0.002109</td>\n",
       "    </tr>\n",
       "    <tr>\n",
       "      <th>P_PERIOD_LIMIT</th>\n",
       "      <td>0.002025</td>\n",
       "    </tr>\n",
       "    <tr>\n",
       "      <th>P_PERIOD</th>\n",
       "      <td>0.001592</td>\n",
       "    </tr>\n",
       "    <tr>\n",
       "      <th>S_TEMPERATURE_LIMIT</th>\n",
       "      <td>0.001432</td>\n",
       "    </tr>\n",
       "    <tr>\n",
       "      <th>S_CONSTELLATION</th>\n",
       "      <td>0.001427</td>\n",
       "    </tr>\n",
       "    <tr>\n",
       "      <th>P_DENSITY</th>\n",
       "      <td>0.000859</td>\n",
       "    </tr>\n",
       "    <tr>\n",
       "      <th>S_CONSTELLATION_ABR</th>\n",
       "      <td>0.000374</td>\n",
       "    </tr>\n",
       "    <tr>\n",
       "      <th>P_OMEGA_LIMIT</th>\n",
       "      <td>NaN</td>\n",
       "    </tr>\n",
       "    <tr>\n",
       "      <th>S_MASS_LIMIT</th>\n",
       "      <td>NaN</td>\n",
       "    </tr>\n",
       "    <tr>\n",
       "      <th>S_RADIUS_LIMIT</th>\n",
       "      <td>NaN</td>\n",
       "    </tr>\n",
       "    <tr>\n",
       "      <th>S_LOG_LUM_LIMIT</th>\n",
       "      <td>NaN</td>\n",
       "    </tr>\n",
       "  </tbody>\n",
       "</table>\n",
       "</div>"
      ],
      "text/plain": [
       "                         P_HABITABLE\n",
       "P_HABITABLE                 1.000000\n",
       "P_HABZONE_OPT               0.479930\n",
       "P_ESI                       0.387213\n",
       "P_TYPE_TEMP                 0.326450\n",
       "P_HABZONE_CON               0.317465\n",
       "S_LOG_LUM                   0.206002\n",
       "S_TYPE_TEMP                 0.150383\n",
       "S_AGE_LIMIT                 0.130480\n",
       "S_LOG_G_LIMIT               0.130480\n",
       "S_TIDAL_LOCK                0.128172\n",
       "P_TEMP_EQUIL                0.124525\n",
       "P_TEMP_EQUIL_MAX            0.124112\n",
       "P_TEMP_SURF_MAX             0.124112\n",
       "P_TEMP_EQUIL_MIN            0.123961\n",
       "P_TEMP_SURF_MIN             0.123961\n",
       "S_MASS                      0.121056\n",
       "S_LOG_G                     0.103750\n",
       "P_TYPE                      0.099970\n",
       "S_TEMPERATURE               0.095672\n",
       "P_RADIUS                    0.076241\n",
       "S_METALLICITY               0.068548\n",
       "P_MASS_ORIGIN               0.062660\n",
       "S_DISTANCE                  0.049997\n",
       "P_ESCAPE                    0.046971\n",
       "S_SNOW_LINE                 0.046953\n",
       "S_HZ_OPT_MIN                0.045245\n",
       "S_HZ_CON_MIN                0.045245\n",
       "S_HZ_CON1_MIN               0.045244\n",
       "S_HZ_CON0_MIN               0.045195\n",
       "S_HZ_CON_MAX                0.043394\n",
       "S_HZ_CON1_MAX               0.043394\n",
       "S_HZ_CON0_MAX               0.043394\n",
       "S_HZ_OPT_MAX                0.043394\n",
       "S_RA_STR                    0.034272\n",
       "S_RA_TXT                    0.034272\n",
       "S_RA                        0.033007\n",
       "P_ECCENTRICITY              0.032966\n",
       "S_DEC                       0.030757\n",
       "S_RADIUS                    0.027975\n",
       "P_MASS_LIMIT                0.027510\n",
       "S_DEC_STR                   0.026677\n",
       "S_DEC_TXT                   0.026677\n",
       "P_POTENTIAL                 0.025171\n",
       "P_INCLINATION               0.025100\n",
       "S_MAG                       0.023222\n",
       "P_UPDATE                    0.022641\n",
       "S_CONSTELLATION_ENG         0.020016\n",
       "P_YEAR                      0.019998\n",
       "P_MASS                      0.019622\n",
       "P_NAME                      0.017414\n",
       "S_NAME                      0.017326\n",
       "P_GRAVITY                   0.017225\n",
       "S_AGE                       0.015338\n",
       "P_ECCENTRICITY_LIMIT        0.008494\n",
       "P_DISCOVERY_FACILITY        0.008272\n",
       "S_LUMINOSITY                0.007762\n",
       "P_FLUX_MAX                  0.005577\n",
       "P_DETECTION                 0.005507\n",
       "P_FLUX                      0.005271\n",
       "P_FLUX_MIN                  0.005160\n",
       "P_APASTRON                  0.005142\n",
       "P_DISTANCE                  0.005002\n",
       "P_DISTANCE_EFF              0.004965\n",
       "P_SEMI_MAJOR_AXIS           0.004949\n",
       "P_HILL_SPHERE               0.004838\n",
       "P_PERIASTRON                0.004745\n",
       "S_METALLICITY_LIMIT         0.002865\n",
       "P_RADIUS_LIMIT              0.002865\n",
       "P_INCLINATION_LIMIT         0.002562\n",
       "P_SEMI_MAJOR_AXIS_LIMIT     0.002481\n",
       "S_ABIO_ZONE                 0.002109\n",
       "P_PERIOD_LIMIT              0.002025\n",
       "P_PERIOD                    0.001592\n",
       "S_TEMPERATURE_LIMIT         0.001432\n",
       "S_CONSTELLATION             0.001427\n",
       "P_DENSITY                   0.000859\n",
       "S_CONSTELLATION_ABR         0.000374\n",
       "P_OMEGA_LIMIT                    NaN\n",
       "S_MASS_LIMIT                     NaN\n",
       "S_RADIUS_LIMIT                   NaN\n",
       "S_LOG_LUM_LIMIT                  NaN"
      ]
     },
     "execution_count": 22,
     "metadata": {},
     "output_type": "execute_result"
    }
   ],
   "source": [
    "hab_corr = corr_matrix.loc[[\"P_HABITABLE\"]].transpose()\n",
    "hab_corr.sort_values(by=\"P_HABITABLE\", ascending=False)\n"
   ]
  },
  {
   "cell_type": "markdown",
   "id": "35656912-3802-495f-8328-e4042756727b",
   "metadata": {
    "tags": []
   },
   "source": [
    "### Consider these columns to have multicolinarity \n",
    "\n",
    "Similar to margin of error (often min = max which is redundant)\n",
    "\n",
    "P_TEMP_SURF_MAX\n",
    "PTEMPSURFMIN\n",
    "PTEMPEQUILMIN\n",
    "PTEMPEQUILMAX\n",
    "\n",
    "PDISTANCE = PHILLSPHERE = PAPASTRON = PPERIASTRON = PERIOD\n",
    "\n",
    "DISTANCE = PERIOD = SEMIMAJORAXIS\n",
    "\n",
    "HILLSPHERE = SEMIMAJORAXIS\n",
    "\n",
    "HILLSPHERE = PERIOD\n",
    "\n",
    "CONSTELLATION = CONS_ABR"
   ]
  },
  {
   "cell_type": "markdown",
   "id": "cafc5e77-4936-4c07-8008-f4bbbf835a4b",
   "metadata": {},
   "source": [
    "### DROP REDUNDANT COLUMNS \n",
    "\n",
    "KEEP DISTANCE\n",
    "DROP SEMIMAJORAXIS, PERIOD, PERIASTRON, ASTRON, HILL SPHERE\n",
    "\n",
    "KEEP TEMP EQUIL\n",
    "DROP TEMPSURF, SURF MIN, SURF MAX, EQUIL MIN, EQUIL MAX\n",
    "\n",
    "KEEP SNOWLINE \n",
    "DROP HZ OP HZ CON MIN AND MAX \n",
    "\n",
    "DROP CONSTELLATION ABR"
   ]
  },
  {
   "cell_type": "code",
   "execution_count": 12,
   "id": "2926bfcd-5210-4428-ad79-4daa7668cea7",
   "metadata": {
    "tags": []
   },
   "outputs": [],
   "source": [
    "copydata.drop(columns=[\"S_HZ_CON0_MIN\", \"P_SEMI_MAJOR_AXIS\", \"P_DISTANCE_EFF\", \"P_PERIASTRON\",\"P_APASTRON\", \"S_CONSTELLATION_ABR\",\"S_HZ_CON0_MAX\", \n",
    "                       \"S_HZ_CON1_MAX\", \"S_HZ_CON0_MAX\", \"S_HZ_CON_MAX\", \"S_HZ_OPT_MAX\", \"S_NAME\", \"P_HILL_SPHERE\",\"P_TEMP_EQUIL_MAX\", \"P_TEMP_SURF_MAX\",\"P_TEMP_SURF_MIN\", \n",
    "                       \"P_TEMP_EQUIL_MIN\"], inplace=True)"
   ]
  },
  {
   "cell_type": "code",
   "execution_count": 17,
   "id": "443dd84a-6d71-4191-8796-8bda865f0031",
   "metadata": {
    "tags": []
   },
   "outputs": [
    {
     "data": {
      "image/png": "[encoded data removed]",
      "text/plain": [
       "<Figure size 2000x2000 with 2 Axes>"
      ]
     },
     "metadata": {},
     "output_type": "display_data"
    }
   ],
   "source": [
    "corr_matrix = copydata.corr(numeric_only=True)\n",
    "mask = np.triu(np.ones_like(corr_matrix, dtype = np.bool_))\n",
    "cmap = sns.diverging_palette(255, 0, as_cmap = True)\n",
    "\n",
    "plt.figure(figsize=(20,20))\n",
    "sns.heatmap(data=corr_matrix, mask=mask, cmap=cmap)\n",
    "plt.show()"
   ]
  },
  {
   "cell_type": "markdown",
   "id": "aea89a08-0d96-4675-8da5-48d8f057cb1a",
   "metadata": {
    "tags": []
   },
   "source": [
    "### Remove all columns with \"LIMIT\" because this is outside the scope of the project "
   ]
  },
  {
   "cell_type": "code",
   "execution_count": 13,
   "id": "3020e538-1512-45b7-b832-da8aa0965acf",
   "metadata": {
    "tags": []
   },
   "outputs": [],
   "source": [
    "for col in copydata.columns:\n",
    "    if \"LIMIT\" in col: \n",
    "        copydata.drop(columns=col, inplace=True)"
   ]
  },
  {
   "cell_type": "code",
   "execution_count": 25,
   "id": "96af3822-4534-481b-b1d0-b7cd9c408667",
   "metadata": {
    "tags": []
   },
   "outputs": [
    {
     "data": {
      "text/plain": [
       "(5569, 50)"
      ]
     },
     "execution_count": 25,
     "metadata": {},
     "output_type": "execute_result"
    }
   ],
   "source": [
    "copydata.shape"
   ]
  },
  {
   "cell_type": "code",
   "execution_count": null,
   "id": "65bc63b9-cbb3-4c1a-bc3f-82a7b2b5b42c",
   "metadata": {},
   "outputs": [],
   "source": [
    "'P_PERIOD', 'P_FLUX', 'P_TEMP_EQUIL','P_TYPE', 'P_HABZONE_OPT','P_RADIUS_EST', 'P_MASS_EST', 'S_TYPE_TEMP']\n",
    "\n",
    "'P_HABZONE_OPT', 'P_ESI', 'P_TYPE_TEMP','S_LOG_LUM', 'S_TIDAL_LOCK', 'P_TEMP_EQUIL', 'P_TYPE'"
   ]
  },
  {
   "cell_type": "code",
   "execution_count": 26,
   "id": "6cd26b6e-3ef3-4d4c-8f35-ed84c3b4246b",
   "metadata": {
    "tags": []
   },
   "outputs": [
    {
     "data": {
      "text/html": [
       "<div>\n",
       "<style scoped>\n",
       "    .dataframe tbody tr th:only-of-type {\n",
       "        vertical-align: middle;\n",
       "    }\n",
       "\n",
       "    .dataframe tbody tr th {\n",
       "        vertical-align: top;\n",
       "    }\n",
       "\n",
       "    .dataframe thead th {\n",
       "        text-align: right;\n",
       "    }\n",
       "</style>\n",
       "<table border=\"1\" class=\"dataframe\">\n",
       "  <thead>\n",
       "    <tr style=\"text-align: right;\">\n",
       "      <th></th>\n",
       "      <th>P_HABITABLE</th>\n",
       "    </tr>\n",
       "  </thead>\n",
       "  <tbody>\n",
       "    <tr>\n",
       "      <th>P_HABITABLE</th>\n",
       "      <td>1.000000</td>\n",
       "    </tr>\n",
       "    <tr>\n",
       "      <th>P_HABZONE_OPT</th>\n",
       "      <td>0.479930</td>\n",
       "    </tr>\n",
       "    <tr>\n",
       "      <th>P_ESI</th>\n",
       "      <td>0.387213</td>\n",
       "    </tr>\n",
       "    <tr>\n",
       "      <th>P_TYPE_TEMP</th>\n",
       "      <td>0.326450</td>\n",
       "    </tr>\n",
       "    <tr>\n",
       "      <th>P_HABZONE_CON</th>\n",
       "      <td>0.317465</td>\n",
       "    </tr>\n",
       "    <tr>\n",
       "      <th>S_LOG_LUM</th>\n",
       "      <td>0.206002</td>\n",
       "    </tr>\n",
       "    <tr>\n",
       "      <th>S_TYPE_TEMP</th>\n",
       "      <td>0.150383</td>\n",
       "    </tr>\n",
       "    <tr>\n",
       "      <th>S_TIDAL_LOCK</th>\n",
       "      <td>0.128172</td>\n",
       "    </tr>\n",
       "    <tr>\n",
       "      <th>P_TEMP_EQUIL</th>\n",
       "      <td>0.124525</td>\n",
       "    </tr>\n",
       "    <tr>\n",
       "      <th>S_MASS</th>\n",
       "      <td>0.121056</td>\n",
       "    </tr>\n",
       "    <tr>\n",
       "      <th>S_LOG_G</th>\n",
       "      <td>0.103750</td>\n",
       "    </tr>\n",
       "    <tr>\n",
       "      <th>P_TYPE</th>\n",
       "      <td>0.099970</td>\n",
       "    </tr>\n",
       "    <tr>\n",
       "      <th>S_TEMPERATURE</th>\n",
       "      <td>0.095672</td>\n",
       "    </tr>\n",
       "    <tr>\n",
       "      <th>P_RADIUS</th>\n",
       "      <td>0.076241</td>\n",
       "    </tr>\n",
       "    <tr>\n",
       "      <th>S_METALLICITY</th>\n",
       "      <td>0.068548</td>\n",
       "    </tr>\n",
       "    <tr>\n",
       "      <th>P_MASS_ORIGIN</th>\n",
       "      <td>0.062660</td>\n",
       "    </tr>\n",
       "    <tr>\n",
       "      <th>S_DISTANCE</th>\n",
       "      <td>0.049997</td>\n",
       "    </tr>\n",
       "    <tr>\n",
       "      <th>P_ESCAPE</th>\n",
       "      <td>0.046971</td>\n",
       "    </tr>\n",
       "    <tr>\n",
       "      <th>S_SNOW_LINE</th>\n",
       "      <td>0.046953</td>\n",
       "    </tr>\n",
       "    <tr>\n",
       "      <th>S_HZ_OPT_MIN</th>\n",
       "      <td>0.045245</td>\n",
       "    </tr>\n",
       "    <tr>\n",
       "      <th>S_HZ_CON_MIN</th>\n",
       "      <td>0.045245</td>\n",
       "    </tr>\n",
       "    <tr>\n",
       "      <th>S_HZ_CON1_MIN</th>\n",
       "      <td>0.045244</td>\n",
       "    </tr>\n",
       "    <tr>\n",
       "      <th>S_RA_STR</th>\n",
       "      <td>0.034272</td>\n",
       "    </tr>\n",
       "    <tr>\n",
       "      <th>S_RA_TXT</th>\n",
       "      <td>0.034272</td>\n",
       "    </tr>\n",
       "    <tr>\n",
       "      <th>S_RA</th>\n",
       "      <td>0.033007</td>\n",
       "    </tr>\n",
       "    <tr>\n",
       "      <th>P_ECCENTRICITY</th>\n",
       "      <td>0.032966</td>\n",
       "    </tr>\n",
       "    <tr>\n",
       "      <th>S_DEC</th>\n",
       "      <td>0.030757</td>\n",
       "    </tr>\n",
       "    <tr>\n",
       "      <th>S_RADIUS</th>\n",
       "      <td>0.027975</td>\n",
       "    </tr>\n",
       "    <tr>\n",
       "      <th>S_DEC_STR</th>\n",
       "      <td>0.026677</td>\n",
       "    </tr>\n",
       "    <tr>\n",
       "      <th>S_DEC_TXT</th>\n",
       "      <td>0.026677</td>\n",
       "    </tr>\n",
       "    <tr>\n",
       "      <th>P_POTENTIAL</th>\n",
       "      <td>0.025171</td>\n",
       "    </tr>\n",
       "    <tr>\n",
       "      <th>P_INCLINATION</th>\n",
       "      <td>0.025100</td>\n",
       "    </tr>\n",
       "    <tr>\n",
       "      <th>S_MAG</th>\n",
       "      <td>0.023222</td>\n",
       "    </tr>\n",
       "    <tr>\n",
       "      <th>P_UPDATE</th>\n",
       "      <td>0.022641</td>\n",
       "    </tr>\n",
       "    <tr>\n",
       "      <th>S_CONSTELLATION_ENG</th>\n",
       "      <td>0.020016</td>\n",
       "    </tr>\n",
       "    <tr>\n",
       "      <th>P_YEAR</th>\n",
       "      <td>0.019998</td>\n",
       "    </tr>\n",
       "    <tr>\n",
       "      <th>P_MASS</th>\n",
       "      <td>0.019622</td>\n",
       "    </tr>\n",
       "    <tr>\n",
       "      <th>P_NAME</th>\n",
       "      <td>0.017414</td>\n",
       "    </tr>\n",
       "    <tr>\n",
       "      <th>P_GRAVITY</th>\n",
       "      <td>0.017225</td>\n",
       "    </tr>\n",
       "    <tr>\n",
       "      <th>S_AGE</th>\n",
       "      <td>0.015338</td>\n",
       "    </tr>\n",
       "    <tr>\n",
       "      <th>P_DISCOVERY_FACILITY</th>\n",
       "      <td>0.008272</td>\n",
       "    </tr>\n",
       "    <tr>\n",
       "      <th>S_LUMINOSITY</th>\n",
       "      <td>0.007762</td>\n",
       "    </tr>\n",
       "    <tr>\n",
       "      <th>P_FLUX_MAX</th>\n",
       "      <td>0.005577</td>\n",
       "    </tr>\n",
       "    <tr>\n",
       "      <th>P_DETECTION</th>\n",
       "      <td>0.005507</td>\n",
       "    </tr>\n",
       "    <tr>\n",
       "      <th>P_FLUX</th>\n",
       "      <td>0.005271</td>\n",
       "    </tr>\n",
       "    <tr>\n",
       "      <th>P_FLUX_MIN</th>\n",
       "      <td>0.005160</td>\n",
       "    </tr>\n",
       "    <tr>\n",
       "      <th>P_DISTANCE</th>\n",
       "      <td>0.005002</td>\n",
       "    </tr>\n",
       "    <tr>\n",
       "      <th>S_ABIO_ZONE</th>\n",
       "      <td>0.002109</td>\n",
       "    </tr>\n",
       "    <tr>\n",
       "      <th>S_CONSTELLATION</th>\n",
       "      <td>0.001427</td>\n",
       "    </tr>\n",
       "    <tr>\n",
       "      <th>P_DENSITY</th>\n",
       "      <td>0.000859</td>\n",
       "    </tr>\n",
       "  </tbody>\n",
       "</table>\n",
       "</div>"
      ],
      "text/plain": [
       "                      P_HABITABLE\n",
       "P_HABITABLE              1.000000\n",
       "P_HABZONE_OPT            0.479930\n",
       "P_ESI                    0.387213\n",
       "P_TYPE_TEMP              0.326450\n",
       "P_HABZONE_CON            0.317465\n",
       "S_LOG_LUM                0.206002\n",
       "S_TYPE_TEMP              0.150383\n",
       "S_TIDAL_LOCK             0.128172\n",
       "P_TEMP_EQUIL             0.124525\n",
       "S_MASS                   0.121056\n",
       "S_LOG_G                  0.103750\n",
       "P_TYPE                   0.099970\n",
       "S_TEMPERATURE            0.095672\n",
       "P_RADIUS                 0.076241\n",
       "S_METALLICITY            0.068548\n",
       "P_MASS_ORIGIN            0.062660\n",
       "S_DISTANCE               0.049997\n",
       "P_ESCAPE                 0.046971\n",
       "S_SNOW_LINE              0.046953\n",
       "S_HZ_OPT_MIN             0.045245\n",
       "S_HZ_CON_MIN             0.045245\n",
       "S_HZ_CON1_MIN            0.045244\n",
       "S_RA_STR                 0.034272\n",
       "S_RA_TXT                 0.034272\n",
       "S_RA                     0.033007\n",
       "P_ECCENTRICITY           0.032966\n",
       "S_DEC                    0.030757\n",
       "S_RADIUS                 0.027975\n",
       "S_DEC_STR                0.026677\n",
       "S_DEC_TXT                0.026677\n",
       "P_POTENTIAL              0.025171\n",
       "P_INCLINATION            0.025100\n",
       "S_MAG                    0.023222\n",
       "P_UPDATE                 0.022641\n",
       "S_CONSTELLATION_ENG      0.020016\n",
       "P_YEAR                   0.019998\n",
       "P_MASS                   0.019622\n",
       "P_NAME                   0.017414\n",
       "P_GRAVITY                0.017225\n",
       "S_AGE                    0.015338\n",
       "P_DISCOVERY_FACILITY     0.008272\n",
       "S_LUMINOSITY             0.007762\n",
       "P_FLUX_MAX               0.005577\n",
       "P_DETECTION              0.005507\n",
       "P_FLUX                   0.005271\n",
       "P_FLUX_MIN               0.005160\n",
       "P_DISTANCE               0.005002\n",
       "S_ABIO_ZONE              0.002109\n",
       "S_CONSTELLATION          0.001427\n",
       "P_DENSITY                0.000859"
      ]
     },
     "execution_count": 26,
     "metadata": {},
     "output_type": "execute_result"
    }
   ],
   "source": [
    "corr_matrix = copydata.corr().abs()\n",
    "hab_corr = corr_matrix.loc[[\"P_HABITABLE\"]].transpose()\n",
    "hab_corr.sort_values(by=\"P_HABITABLE\", ascending=False)"
   ]
  },
  {
   "cell_type": "code",
   "execution_count": 14,
   "id": "f92d500e-f007-4efe-a015-a5d41de9bdf4",
   "metadata": {
    "tags": []
   },
   "outputs": [],
   "source": [
    "copydata.drop(columns=[\"S_HZ_OPT_MIN\",\"S_HZ_CON_MIN\", \"S_HZ_CON1_MIN\", \"P_FLUX_MIN\"], inplace=True)"
   ]
  },
  {
   "cell_type": "code",
   "execution_count": null,
   "id": "cba5a373-c455-4bbc-8e4b-e3fc8dde6c1f",
   "metadata": {
    "tags": []
   },
   "outputs": [],
   "source": []
  },
  {
   "cell_type": "markdown",
   "id": "8c7a867b-a9a7-4ec3-a962-339681069c4c",
   "metadata": {},
   "source": [
    "### MICE imputation of remaining null values"
   ]
  },
  {
   "cell_type": "code",
   "execution_count": 15,
   "id": "19c5a835-dd1d-40b7-97f3-01b86f60d666",
   "metadata": {
    "tags": []
   },
   "outputs": [],
   "source": [
    "from sklearn.experimental import enable_iterative_imputer\n",
    "from sklearn.impute import IterativeImputer\n",
    "\n",
    "imputer = IterativeImputer(random_state=42)\n",
    "imputed = imputer.fit_transform(copydata)\n",
    "newdata = pd.DataFrame(imputed, columns=copydata.columns)"
   ]
  },
  {
   "cell_type": "code",
   "execution_count": 29,
   "id": "c3458ce7-6a0d-45f8-b3ee-619da372352d",
   "metadata": {
    "tags": []
   },
   "outputs": [
    {
     "data": {
      "text/html": [
       "<div>\n",
       "<style scoped>\n",
       "    .dataframe tbody tr th:only-of-type {\n",
       "        vertical-align: middle;\n",
       "    }\n",
       "\n",
       "    .dataframe tbody tr th {\n",
       "        vertical-align: top;\n",
       "    }\n",
       "\n",
       "    .dataframe thead th {\n",
       "        text-align: right;\n",
       "    }\n",
       "</style>\n",
       "<table border=\"1\" class=\"dataframe\">\n",
       "  <thead>\n",
       "    <tr style=\"text-align: right;\">\n",
       "      <th></th>\n",
       "      <th>P_NAME</th>\n",
       "      <th>P_DETECTION</th>\n",
       "      <th>P_DISCOVERY_FACILITY</th>\n",
       "      <th>P_YEAR</th>\n",
       "      <th>P_UPDATE</th>\n",
       "      <th>P_MASS</th>\n",
       "      <th>P_MASS_ORIGIN</th>\n",
       "      <th>P_RADIUS</th>\n",
       "      <th>P_ECCENTRICITY</th>\n",
       "      <th>P_INCLINATION</th>\n",
       "      <th>...</th>\n",
       "      <th>S_SNOW_LINE</th>\n",
       "      <th>S_ABIO_ZONE</th>\n",
       "      <th>S_TIDAL_LOCK</th>\n",
       "      <th>P_HABZONE_OPT</th>\n",
       "      <th>P_HABZONE_CON</th>\n",
       "      <th>P_TYPE_TEMP</th>\n",
       "      <th>P_HABITABLE</th>\n",
       "      <th>P_ESI</th>\n",
       "      <th>S_CONSTELLATION</th>\n",
       "      <th>S_CONSTELLATION_ENG</th>\n",
       "    </tr>\n",
       "  </thead>\n",
       "  <tbody>\n",
       "    <tr>\n",
       "      <th>0</th>\n",
       "      <td>4852.0</td>\n",
       "      <td>4.0</td>\n",
       "      <td>43.0</td>\n",
       "      <td>2020.0</td>\n",
       "      <td>144.0</td>\n",
       "      <td>250.00</td>\n",
       "      <td>1.0</td>\n",
       "      <td>13.90</td>\n",
       "      <td>0.076464</td>\n",
       "      <td>-13023.184196</td>\n",
       "      <td>...</td>\n",
       "      <td>2.009683</td>\n",
       "      <td>1.019592e+35</td>\n",
       "      <td>0.214133</td>\n",
       "      <td>0.0</td>\n",
       "      <td>0.0</td>\n",
       "      <td>1.0</td>\n",
       "      <td>0.0</td>\n",
       "      <td>0.038072</td>\n",
       "      <td>72.0</td>\n",
       "      <td>63.0</td>\n",
       "    </tr>\n",
       "    <tr>\n",
       "      <th>1</th>\n",
       "      <td>3536.0</td>\n",
       "      <td>9.0</td>\n",
       "      <td>27.0</td>\n",
       "      <td>2013.0</td>\n",
       "      <td>92.0</td>\n",
       "      <td>16.60</td>\n",
       "      <td>1.0</td>\n",
       "      <td>2.90</td>\n",
       "      <td>0.000000</td>\n",
       "      <td>86.920000</td>\n",
       "      <td>...</td>\n",
       "      <td>2.437046</td>\n",
       "      <td>2.097783e+00</td>\n",
       "      <td>0.316980</td>\n",
       "      <td>0.0</td>\n",
       "      <td>0.0</td>\n",
       "      <td>1.0</td>\n",
       "      <td>0.0</td>\n",
       "      <td>0.272032</td>\n",
       "      <td>30.0</td>\n",
       "      <td>75.0</td>\n",
       "    </tr>\n",
       "    <tr>\n",
       "      <th>2</th>\n",
       "      <td>4492.0</td>\n",
       "      <td>9.0</td>\n",
       "      <td>27.0</td>\n",
       "      <td>2016.0</td>\n",
       "      <td>109.0</td>\n",
       "      <td>5.10</td>\n",
       "      <td>0.0</td>\n",
       "      <td>2.11</td>\n",
       "      <td>0.000000</td>\n",
       "      <td>89.820000</td>\n",
       "      <td>...</td>\n",
       "      <td>2.827247</td>\n",
       "      <td>1.756317e+00</td>\n",
       "      <td>0.459559</td>\n",
       "      <td>0.0</td>\n",
       "      <td>0.0</td>\n",
       "      <td>1.0</td>\n",
       "      <td>0.0</td>\n",
       "      <td>0.254763</td>\n",
       "      <td>51.0</td>\n",
       "      <td>49.0</td>\n",
       "    </tr>\n",
       "    <tr>\n",
       "      <th>3</th>\n",
       "      <td>1579.0</td>\n",
       "      <td>9.0</td>\n",
       "      <td>21.0</td>\n",
       "      <td>2018.0</td>\n",
       "      <td>125.0</td>\n",
       "      <td>12.20</td>\n",
       "      <td>0.0</td>\n",
       "      <td>3.52</td>\n",
       "      <td>0.076442</td>\n",
       "      <td>117.630067</td>\n",
       "      <td>...</td>\n",
       "      <td>1.476943</td>\n",
       "      <td>5.683741e-01</td>\n",
       "      <td>0.443760</td>\n",
       "      <td>0.0</td>\n",
       "      <td>0.0</td>\n",
       "      <td>1.0</td>\n",
       "      <td>0.0</td>\n",
       "      <td>0.193906</td>\n",
       "      <td>65.0</td>\n",
       "      <td>26.0</td>\n",
       "    </tr>\n",
       "    <tr>\n",
       "      <th>4</th>\n",
       "      <td>4004.0</td>\n",
       "      <td>9.0</td>\n",
       "      <td>27.0</td>\n",
       "      <td>2016.0</td>\n",
       "      <td>109.0</td>\n",
       "      <td>4.94</td>\n",
       "      <td>0.0</td>\n",
       "      <td>2.07</td>\n",
       "      <td>0.000000</td>\n",
       "      <td>87.750000</td>\n",
       "      <td>...</td>\n",
       "      <td>1.759397</td>\n",
       "      <td>7.685024e-01</td>\n",
       "      <td>0.386150</td>\n",
       "      <td>0.0</td>\n",
       "      <td>0.0</td>\n",
       "      <td>1.0</td>\n",
       "      <td>0.0</td>\n",
       "      <td>0.276721</td>\n",
       "      <td>51.0</td>\n",
       "      <td>49.0</td>\n",
       "    </tr>\n",
       "  </tbody>\n",
       "</table>\n",
       "<p>5 rows × 46 columns</p>\n",
       "</div>"
      ],
      "text/plain": [
       "   P_NAME  P_DETECTION  P_DISCOVERY_FACILITY  P_YEAR  P_UPDATE  P_MASS  \\\n",
       "0  4852.0          4.0                  43.0  2020.0     144.0  250.00   \n",
       "1  3536.0          9.0                  27.0  2013.0      92.0   16.60   \n",
       "2  4492.0          9.0                  27.0  2016.0     109.0    5.10   \n",
       "3  1579.0          9.0                  21.0  2018.0     125.0   12.20   \n",
       "4  4004.0          9.0                  27.0  2016.0     109.0    4.94   \n",
       "\n",
       "   P_MASS_ORIGIN  P_RADIUS  P_ECCENTRICITY  P_INCLINATION  ...  S_SNOW_LINE  \\\n",
       "0            1.0     13.90        0.076464  -13023.184196  ...     2.009683   \n",
       "1            1.0      2.90        0.000000      86.920000  ...     2.437046   \n",
       "2            0.0      2.11        0.000000      89.820000  ...     2.827247   \n",
       "3            0.0      3.52        0.076442     117.630067  ...     1.476943   \n",
       "4            0.0      2.07        0.000000      87.750000  ...     1.759397   \n",
       "\n",
       "    S_ABIO_ZONE  S_TIDAL_LOCK  P_HABZONE_OPT  P_HABZONE_CON  P_TYPE_TEMP  \\\n",
       "0  1.019592e+35      0.214133            0.0            0.0          1.0   \n",
       "1  2.097783e+00      0.316980            0.0            0.0          1.0   \n",
       "2  1.756317e+00      0.459559            0.0            0.0          1.0   \n",
       "3  5.683741e-01      0.443760            0.0            0.0          1.0   \n",
       "4  7.685024e-01      0.386150            0.0            0.0          1.0   \n",
       "\n",
       "   P_HABITABLE     P_ESI  S_CONSTELLATION  S_CONSTELLATION_ENG  \n",
       "0          0.0  0.038072             72.0                 63.0  \n",
       "1          0.0  0.272032             30.0                 75.0  \n",
       "2          0.0  0.254763             51.0                 49.0  \n",
       "3          0.0  0.193906             65.0                 26.0  \n",
       "4          0.0  0.276721             51.0                 49.0  \n",
       "\n",
       "[5 rows x 46 columns]"
      ]
     },
     "execution_count": 29,
     "metadata": {},
     "output_type": "execute_result"
    }
   ],
   "source": [
    "newdata.head()"
   ]
  },
  {
   "cell_type": "code",
   "execution_count": 14,
   "id": "4dbf3b3d-054d-49f0-96c3-06367fe21898",
   "metadata": {
    "collapsed": true,
    "jupyter": {
     "outputs_hidden": true
    },
    "tags": []
   },
   "outputs": [
    {
     "data": {
      "text/plain": [
       "P_NAME                  0\n",
       "P_DETECTION             0\n",
       "P_DISCOVERY_FACILITY    0\n",
       "P_YEAR                  0\n",
       "P_UPDATE                0\n",
       "P_MASS                  0\n",
       "P_MASS_ORIGIN           0\n",
       "P_RADIUS                0\n",
       "P_ECCENTRICITY          0\n",
       "P_INCLINATION           0\n",
       "S_RA                    0\n",
       "S_DEC                   0\n",
       "S_RA_STR                0\n",
       "S_DEC_STR               0\n",
       "S_MAG                   0\n",
       "S_DISTANCE              0\n",
       "S_TEMPERATURE           0\n",
       "S_MASS                  0\n",
       "S_RADIUS                0\n",
       "S_METALLICITY           0\n",
       "S_AGE                   0\n",
       "S_LOG_LUM               0\n",
       "S_LOG_G                 0\n",
       "P_ESCAPE                0\n",
       "P_POTENTIAL             0\n",
       "P_GRAVITY               0\n",
       "P_DENSITY               0\n",
       "P_DISTANCE              0\n",
       "P_FLUX                  0\n",
       "P_FLUX_MAX              0\n",
       "P_TEMP_EQUIL            0\n",
       "P_TYPE                  0\n",
       "S_TYPE_TEMP             0\n",
       "S_RA_TXT                0\n",
       "S_DEC_TXT               0\n",
       "S_LUMINOSITY            0\n",
       "S_SNOW_LINE             0\n",
       "S_ABIO_ZONE             0\n",
       "S_TIDAL_LOCK            0\n",
       "P_HABZONE_OPT           0\n",
       "P_HABZONE_CON           0\n",
       "P_TYPE_TEMP             0\n",
       "P_HABITABLE             0\n",
       "P_ESI                   0\n",
       "S_CONSTELLATION         0\n",
       "S_CONSTELLATION_ENG     0\n",
       "dtype: int64"
      ]
     },
     "execution_count": 14,
     "metadata": {},
     "output_type": "execute_result"
    }
   ],
   "source": [
    "newdata.isna().sum()"
   ]
  },
  {
   "cell_type": "code",
   "execution_count": null,
   "id": "ab545288-610d-4426-92e5-18b2f529dcb2",
   "metadata": {},
   "outputs": [],
   "source": []
  },
  {
   "cell_type": "markdown",
   "id": "8f16462e-aa60-4412-b328-756a770f4e0c",
   "metadata": {},
   "source": [
    "# EDA"
   ]
  },
  {
   "cell_type": "code",
   "execution_count": 50,
   "id": "b1aa299a-05f4-4ae8-a0f8-a6810d56c5a7",
   "metadata": {
    "collapsed": true,
    "jupyter": {
     "outputs_hidden": true
    },
    "tags": []
   },
   "outputs": [
    {
     "data": {
      "text/html": [
       "<div>\n",
       "<style scoped>\n",
       "    .dataframe tbody tr th:only-of-type {\n",
       "        vertical-align: middle;\n",
       "    }\n",
       "\n",
       "    .dataframe tbody tr th {\n",
       "        vertical-align: top;\n",
       "    }\n",
       "\n",
       "    .dataframe thead th {\n",
       "        text-align: right;\n",
       "    }\n",
       "</style>\n",
       "<table border=\"1\" class=\"dataframe\">\n",
       "  <thead>\n",
       "    <tr style=\"text-align: right;\">\n",
       "      <th></th>\n",
       "      <th>P_NAME</th>\n",
       "      <th>P_DETECTION</th>\n",
       "      <th>P_DISCOVERY_FACILITY</th>\n",
       "      <th>P_YEAR</th>\n",
       "      <th>P_UPDATE</th>\n",
       "      <th>P_MASS</th>\n",
       "      <th>P_MASS_ORIGIN</th>\n",
       "      <th>P_RADIUS</th>\n",
       "      <th>P_ECCENTRICITY</th>\n",
       "      <th>P_INCLINATION</th>\n",
       "      <th>...</th>\n",
       "      <th>S_SNOW_LINE</th>\n",
       "      <th>S_ABIO_ZONE</th>\n",
       "      <th>S_TIDAL_LOCK</th>\n",
       "      <th>P_HABZONE_OPT</th>\n",
       "      <th>P_HABZONE_CON</th>\n",
       "      <th>P_TYPE_TEMP</th>\n",
       "      <th>P_HABITABLE</th>\n",
       "      <th>P_ESI</th>\n",
       "      <th>S_CONSTELLATION</th>\n",
       "      <th>S_CONSTELLATION_ENG</th>\n",
       "    </tr>\n",
       "  </thead>\n",
       "  <tbody>\n",
       "    <tr>\n",
       "      <th>count</th>\n",
       "      <td>5569.000000</td>\n",
       "      <td>5569.000000</td>\n",
       "      <td>5569.000000</td>\n",
       "      <td>5569.000000</td>\n",
       "      <td>5569.000000</td>\n",
       "      <td>5569.000000</td>\n",
       "      <td>5569.000000</td>\n",
       "      <td>5569.000000</td>\n",
       "      <td>5569.000000</td>\n",
       "      <td>5.569000e+03</td>\n",
       "      <td>...</td>\n",
       "      <td>5569.000000</td>\n",
       "      <td>5.569000e+03</td>\n",
       "      <td>5569.000000</td>\n",
       "      <td>5569.000000</td>\n",
       "      <td>5569.000000</td>\n",
       "      <td>5569.000000</td>\n",
       "      <td>5569.000000</td>\n",
       "      <td>5569.000000</td>\n",
       "      <td>5569.000000</td>\n",
       "      <td>5569.000000</td>\n",
       "    </tr>\n",
       "    <tr>\n",
       "      <th>mean</th>\n",
       "      <td>2784.000000</td>\n",
       "      <td>8.513198</td>\n",
       "      <td>31.715748</td>\n",
       "      <td>2016.147603</td>\n",
       "      <td>161.078470</td>\n",
       "      <td>440.753376</td>\n",
       "      <td>0.790986</td>\n",
       "      <td>5.716841</td>\n",
       "      <td>0.076464</td>\n",
       "      <td>-1.302318e+04</td>\n",
       "      <td>...</td>\n",
       "      <td>2.009683</td>\n",
       "      <td>1.019592e+35</td>\n",
       "      <td>0.425936</td>\n",
       "      <td>0.047226</td>\n",
       "      <td>0.033579</td>\n",
       "      <td>0.983480</td>\n",
       "      <td>0.019573</td>\n",
       "      <td>0.038072</td>\n",
       "      <td>41.934997</td>\n",
       "      <td>53.783085</td>\n",
       "    </tr>\n",
       "    <tr>\n",
       "      <th>std</th>\n",
       "      <td>1607.776156</td>\n",
       "      <td>1.256969</td>\n",
       "      <td>13.157199</td>\n",
       "      <td>4.505797</td>\n",
       "      <td>72.509448</td>\n",
       "      <td>2369.161502</td>\n",
       "      <td>1.044855</td>\n",
       "      <td>5.337006</td>\n",
       "      <td>0.139893</td>\n",
       "      <td>6.659612e+05</td>\n",
       "      <td>...</td>\n",
       "      <td>81.098653</td>\n",
       "      <td>5.167176e+36</td>\n",
       "      <td>0.076978</td>\n",
       "      <td>0.212140</td>\n",
       "      <td>0.180158</td>\n",
       "      <td>0.332744</td>\n",
       "      <td>0.183196</td>\n",
       "      <td>11.101765</td>\n",
       "      <td>20.664615</td>\n",
       "      <td>24.618796</td>\n",
       "    </tr>\n",
       "    <tr>\n",
       "      <th>min</th>\n",
       "      <td>0.000000</td>\n",
       "      <td>0.000000</td>\n",
       "      <td>0.000000</td>\n",
       "      <td>1992.000000</td>\n",
       "      <td>0.000000</td>\n",
       "      <td>0.020000</td>\n",
       "      <td>0.000000</td>\n",
       "      <td>0.310000</td>\n",
       "      <td>0.000000</td>\n",
       "      <td>-3.514499e+07</td>\n",
       "      <td>...</td>\n",
       "      <td>-4261.987580</td>\n",
       "      <td>4.356319e-05</td>\n",
       "      <td>0.029269</td>\n",
       "      <td>0.000000</td>\n",
       "      <td>0.000000</td>\n",
       "      <td>0.000000</td>\n",
       "      <td>0.000000</td>\n",
       "      <td>-585.582379</td>\n",
       "      <td>0.000000</td>\n",
       "      <td>0.000000</td>\n",
       "    </tr>\n",
       "    <tr>\n",
       "      <th>25%</th>\n",
       "      <td>1392.000000</td>\n",
       "      <td>9.000000</td>\n",
       "      <td>27.000000</td>\n",
       "      <td>2014.000000</td>\n",
       "      <td>109.000000</td>\n",
       "      <td>4.040000</td>\n",
       "      <td>0.000000</td>\n",
       "      <td>1.780000</td>\n",
       "      <td>0.000000</td>\n",
       "      <td>8.720000e+01</td>\n",
       "      <td>...</td>\n",
       "      <td>1.647646</td>\n",
       "      <td>5.014684e-01</td>\n",
       "      <td>0.391783</td>\n",
       "      <td>0.000000</td>\n",
       "      <td>0.000000</td>\n",
       "      <td>1.000000</td>\n",
       "      <td>0.000000</td>\n",
       "      <td>0.157835</td>\n",
       "      <td>30.000000</td>\n",
       "      <td>36.000000</td>\n",
       "    </tr>\n",
       "    <tr>\n",
       "      <th>50%</th>\n",
       "      <td>2784.000000</td>\n",
       "      <td>9.000000</td>\n",
       "      <td>27.000000</td>\n",
       "      <td>2016.000000</td>\n",
       "      <td>125.000000</td>\n",
       "      <td>8.750000</td>\n",
       "      <td>0.000000</td>\n",
       "      <td>2.780000</td>\n",
       "      <td>0.000000</td>\n",
       "      <td>8.917000e+01</td>\n",
       "      <td>...</td>\n",
       "      <td>2.411925</td>\n",
       "      <td>1.446409e+00</td>\n",
       "      <td>0.443760</td>\n",
       "      <td>0.000000</td>\n",
       "      <td>0.000000</td>\n",
       "      <td>1.000000</td>\n",
       "      <td>0.000000</td>\n",
       "      <td>0.263108</td>\n",
       "      <td>35.000000</td>\n",
       "      <td>57.000000</td>\n",
       "    </tr>\n",
       "    <tr>\n",
       "      <th>75%</th>\n",
       "      <td>4176.000000</td>\n",
       "      <td>9.000000</td>\n",
       "      <td>36.000000</td>\n",
       "      <td>2020.000000</td>\n",
       "      <td>225.000000</td>\n",
       "      <td>165.260000</td>\n",
       "      <td>1.000000</td>\n",
       "      <td>11.893000</td>\n",
       "      <td>0.076464</td>\n",
       "      <td>8.998000e+01</td>\n",
       "      <td>...</td>\n",
       "      <td>3.813851</td>\n",
       "      <td>2.829876e+00</td>\n",
       "      <td>0.470443</td>\n",
       "      <td>0.000000</td>\n",
       "      <td>0.000000</td>\n",
       "      <td>1.000000</td>\n",
       "      <td>0.000000</td>\n",
       "      <td>0.299466</td>\n",
       "      <td>51.000000</td>\n",
       "      <td>75.000000</td>\n",
       "    </tr>\n",
       "    <tr>\n",
       "      <th>max</th>\n",
       "      <td>5568.000000</td>\n",
       "      <td>10.000000</td>\n",
       "      <td>69.000000</td>\n",
       "      <td>2023.000000</td>\n",
       "      <td>292.000000</td>\n",
       "      <td>89700.000000</td>\n",
       "      <td>3.000000</td>\n",
       "      <td>77.342000</td>\n",
       "      <td>0.950000</td>\n",
       "      <td>1.760920e+02</td>\n",
       "      <td>...</td>\n",
       "      <td>214.468620</td>\n",
       "      <td>2.726899e+38</td>\n",
       "      <td>1.003328</td>\n",
       "      <td>1.000000</td>\n",
       "      <td>1.000000</td>\n",
       "      <td>2.000000</td>\n",
       "      <td>2.000000</td>\n",
       "      <td>0.950573</td>\n",
       "      <td>87.000000</td>\n",
       "      <td>87.000000</td>\n",
       "    </tr>\n",
       "  </tbody>\n",
       "</table>\n",
       "<p>8 rows × 46 columns</p>\n",
       "</div>"
      ],
      "text/plain": [
       "            P_NAME  P_DETECTION  P_DISCOVERY_FACILITY       P_YEAR  \\\n",
       "count  5569.000000  5569.000000           5569.000000  5569.000000   \n",
       "mean   2784.000000     8.513198             31.715748  2016.147603   \n",
       "std    1607.776156     1.256969             13.157199     4.505797   \n",
       "min       0.000000     0.000000              0.000000  1992.000000   \n",
       "25%    1392.000000     9.000000             27.000000  2014.000000   \n",
       "50%    2784.000000     9.000000             27.000000  2016.000000   \n",
       "75%    4176.000000     9.000000             36.000000  2020.000000   \n",
       "max    5568.000000    10.000000             69.000000  2023.000000   \n",
       "\n",
       "          P_UPDATE        P_MASS  P_MASS_ORIGIN     P_RADIUS  P_ECCENTRICITY  \\\n",
       "count  5569.000000   5569.000000    5569.000000  5569.000000     5569.000000   \n",
       "mean    161.078470    440.753376       0.790986     5.716841        0.076464   \n",
       "std      72.509448   2369.161502       1.044855     5.337006        0.139893   \n",
       "min       0.000000      0.020000       0.000000     0.310000        0.000000   \n",
       "25%     109.000000      4.040000       0.000000     1.780000        0.000000   \n",
       "50%     125.000000      8.750000       0.000000     2.780000        0.000000   \n",
       "75%     225.000000    165.260000       1.000000    11.893000        0.076464   \n",
       "max     292.000000  89700.000000       3.000000    77.342000        0.950000   \n",
       "\n",
       "       P_INCLINATION  ...  S_SNOW_LINE   S_ABIO_ZONE  S_TIDAL_LOCK  \\\n",
       "count   5.569000e+03  ...  5569.000000  5.569000e+03   5569.000000   \n",
       "mean   -1.302318e+04  ...     2.009683  1.019592e+35      0.425936   \n",
       "std     6.659612e+05  ...    81.098653  5.167176e+36      0.076978   \n",
       "min    -3.514499e+07  ... -4261.987580  4.356319e-05      0.029269   \n",
       "25%     8.720000e+01  ...     1.647646  5.014684e-01      0.391783   \n",
       "50%     8.917000e+01  ...     2.411925  1.446409e+00      0.443760   \n",
       "75%     8.998000e+01  ...     3.813851  2.829876e+00      0.470443   \n",
       "max     1.760920e+02  ...   214.468620  2.726899e+38      1.003328   \n",
       "\n",
       "       P_HABZONE_OPT  P_HABZONE_CON  P_TYPE_TEMP  P_HABITABLE        P_ESI  \\\n",
       "count    5569.000000    5569.000000  5569.000000  5569.000000  5569.000000   \n",
       "mean        0.047226       0.033579     0.983480     0.019573     0.038072   \n",
       "std         0.212140       0.180158     0.332744     0.183196    11.101765   \n",
       "min         0.000000       0.000000     0.000000     0.000000  -585.582379   \n",
       "25%         0.000000       0.000000     1.000000     0.000000     0.157835   \n",
       "50%         0.000000       0.000000     1.000000     0.000000     0.263108   \n",
       "75%         0.000000       0.000000     1.000000     0.000000     0.299466   \n",
       "max         1.000000       1.000000     2.000000     2.000000     0.950573   \n",
       "\n",
       "       S_CONSTELLATION  S_CONSTELLATION_ENG  \n",
       "count      5569.000000          5569.000000  \n",
       "mean         41.934997            53.783085  \n",
       "std          20.664615            24.618796  \n",
       "min           0.000000             0.000000  \n",
       "25%          30.000000            36.000000  \n",
       "50%          35.000000            57.000000  \n",
       "75%          51.000000            75.000000  \n",
       "max          87.000000            87.000000  \n",
       "\n",
       "[8 rows x 46 columns]"
      ]
     },
     "execution_count": 50,
     "metadata": {},
     "output_type": "execute_result"
    }
   ],
   "source": [
    "newdata.describe()"
   ]
  },
  {
   "cell_type": "code",
   "execution_count": 33,
   "id": "c335ebcc-9906-4ea4-b415-636b1a43decd",
   "metadata": {
    "tags": []
   },
   "outputs": [
    {
     "data": {
      "image/png": "[encoded data removed]",
      "text/plain": [
       "<Figure size 800x600 with 1 Axes>"
      ]
     },
     "metadata": {},
     "output_type": "display_data"
    }
   ],
   "source": [
    "# histograms \n",
    "\n",
    "plt.figure(figsize=(8,6))\n",
    "sns.histplot(data=newdata, x=newdata[\"P_HABITABLE\"])\n",
    "plt.show()"
   ]
  },
  {
   "cell_type": "code",
   "execution_count": null,
   "id": "6c5deb2d-8720-449e-a981-4cae670a5839",
   "metadata": {
    "tags": []
   },
   "outputs": [],
   "source": []
  },
  {
   "cell_type": "code",
   "execution_count": 36,
   "id": "c1d75d65-b409-41c7-a81f-2bf0b0e10f0f",
   "metadata": {
    "collapsed": true,
    "jupyter": {
     "outputs_hidden": true
    },
    "tags": []
   },
   "outputs": [
    {
     "data": {
      "image/png": "[encoded data removed]",
      "text/plain": [
       "<Figure size 1000x800 with 1 Axes>"
      ]
     },
     "metadata": {},
     "output_type": "display_data"
    }
   ],
   "source": [
    "# scatterplots\n",
    "\n",
    "plt.figure(figsize=(10,8))\n",
    "sns.histplot(data=newdata, x='P_HABZONE_OPT', hue='P_HABITABLE')\n",
    "plt.show()"
   ]
  },
  {
   "cell_type": "code",
   "execution_count": null,
   "id": "aa9c7eb2-c59c-464f-b554-9ae0e5363c36",
   "metadata": {},
   "outputs": [],
   "source": []
  },
  {
   "cell_type": "markdown",
   "id": "1aae0584-a134-4f63-a00f-67f8be5fd5a9",
   "metadata": {},
   "source": [
    "### Unbalanced Values"
   ]
  },
  {
   "cell_type": "code",
   "execution_count": 69,
   "id": "69ba9119-a783-4d19-84ff-bed482f7ee31",
   "metadata": {
    "tags": []
   },
   "outputs": [
    {
     "data": {
      "text/html": [
       "<div>\n",
       "<style scoped>\n",
       "    .dataframe tbody tr th:only-of-type {\n",
       "        vertical-align: middle;\n",
       "    }\n",
       "\n",
       "    .dataframe tbody tr th {\n",
       "        vertical-align: top;\n",
       "    }\n",
       "\n",
       "    .dataframe thead th {\n",
       "        text-align: right;\n",
       "    }\n",
       "</style>\n",
       "<table border=\"1\" class=\"dataframe\">\n",
       "  <thead>\n",
       "    <tr style=\"text-align: right;\">\n",
       "      <th></th>\n",
       "      <th>P_HABITABLE</th>\n",
       "      <th>percentage</th>\n",
       "    </tr>\n",
       "  </thead>\n",
       "  <tbody>\n",
       "    <tr>\n",
       "      <th>0.0</th>\n",
       "      <td>5500</td>\n",
       "      <td>98.760998</td>\n",
       "    </tr>\n",
       "    <tr>\n",
       "      <th>2.0</th>\n",
       "      <td>40</td>\n",
       "      <td>0.718262</td>\n",
       "    </tr>\n",
       "    <tr>\n",
       "      <th>1.0</th>\n",
       "      <td>29</td>\n",
       "      <td>0.520740</td>\n",
       "    </tr>\n",
       "  </tbody>\n",
       "</table>\n",
       "</div>"
      ],
      "text/plain": [
       "     P_HABITABLE  percentage\n",
       "0.0         5500   98.760998\n",
       "2.0           40    0.718262\n",
       "1.0           29    0.520740"
      ]
     },
     "execution_count": 69,
     "metadata": {},
     "output_type": "execute_result"
    }
   ],
   "source": [
    "values = pd.DataFrame(newdata['P_HABITABLE'].value_counts())\n",
    "values['percentage'] = (values['P_HABITABLE']/ 5569)*100\n",
    "values"
   ]
  },
  {
   "cell_type": "markdown",
   "id": "7f16a7e0-58b3-4ac3-8d74-a6b965e141d6",
   "metadata": {},
   "source": [
    "### Data is highly unbalanced, to fix this we either need to DOWNSAMPLE or UPSAMPLE or UPWEIGHTfrom imblearn.combine import SMOTEENN"
   ]
  },
  {
   "cell_type": "code",
   "execution_count": 41,
   "id": "d5114689-291e-4154-a580-f77231c5e0fd",
   "metadata": {
    "collapsed": true,
    "jupyter": {
     "outputs_hidden": true
    },
    "tags": []
   },
   "outputs": [
    {
     "name": "stdout",
     "output_type": "stream",
     "text": [
      "Retrieving notices: ...working... done\n",
      "Collecting package metadata (current_repodata.json): ...working... done\n",
      "Solving environment: ...working... done\n",
      "\n",
      "## Package Plan ##\n",
      "\n",
      "  environment location: C:\\Users\\eleanor\\anaconda3\n",
      "\n",
      "  added / updated specs:\n",
      "    - imbalanced-learn\n",
      "\n",
      "\n",
      "The following packages will be downloaded:\n",
      "\n",
      "    package                    |            build\n",
      "    ---------------------------|-----------------\n",
      "    ca-certificates-2024.2.2   |       h56e8100_0         152 KB  conda-forge\n",
      "    certifi-2024.2.2           |     pyhd8ed1ab_0         157 KB  conda-forge\n",
      "    imbalanced-learn-0.12.0    |     pyhd8ed1ab_0         155 KB  conda-forge\n",
      "    ------------------------------------------------------------\n",
      "                                           Total:         464 KB\n",
      "\n",
      "The following packages will be UPDATED:\n",
      "\n",
      "  ca-certificates    pkgs/main::ca-certificates-2023.12.12~ --> conda-forge::ca-certificates-2024.2.2-h56e8100_0 \n",
      "  imbalanced-learn   pkgs/main/win-64::imbalanced-learn-0.~ --> conda-forge/noarch::imbalanced-learn-0.12.0-pyhd8ed1ab_0 \n",
      "\n",
      "The following packages will be SUPERSEDED by a higher-priority channel:\n",
      "\n",
      "  certifi            pkgs/main/win-64::certifi-2024.2.2-py~ --> conda-forge/noarch::certifi-2024.2.2-pyhd8ed1ab_0 \n",
      "\n",
      "\n",
      "\n",
      "Downloading and Extracting Packages\n",
      "\n",
      "imbalanced-learn-0.1 | 155 KB    |            |   0% \n",
      "\n",
      "ca-certificates-2024 | 152 KB    |            |   0% \u001b[A\n",
      "\n",
      "\n",
      "certifi-2024.2.2     | 157 KB    |            |   0% \u001b[A\u001b[A\n",
      "\n",
      "\n",
      "certifi-2024.2.2     | 157 KB    | #          |  10% \u001b[A\u001b[A\n",
      "imbalanced-learn-0.1 | 155 KB    | #          |  10% \n",
      "\n",
      "ca-certificates-2024 | 152 KB    | #          |  11% \u001b[A\n",
      "\n",
      "\n",
      "certifi-2024.2.2     | 157 KB    | ########## | 100% \u001b[A\u001b[A\n",
      "\n",
      "\n",
      "certifi-2024.2.2     | 157 KB    | ########## | 100% \u001b[A\u001b[A\n",
      "\n",
      "ca-certificates-2024 | 152 KB    | ########## | 100% \u001b[A\n",
      "\n",
      "ca-certificates-2024 | 152 KB    | ########## | 100% \u001b[A\n",
      "imbalanced-learn-0.1 | 155 KB    | ########## | 100% \n",
      "imbalanced-learn-0.1 | 155 KB    | ########## | 100% \n",
      "                                                     \n",
      "\n",
      "\n",
      "                                                     \u001b[A\n",
      "\n",
      "\n",
      "                                                     \u001b[A\u001b[A\n",
      "\n",
      "Preparing transaction: ...working... done\n",
      "Verifying transaction: ...working... done\n",
      "Executing transaction: ...working... done\n",
      "\n",
      "Note: you may need to restart the kernel to use updated packages.\n"
     ]
    },
    {
     "name": "stderr",
     "output_type": "stream",
     "text": [
      "\n",
      "\n",
      "==> WARNING: A newer version of conda exists. <==\n",
      "  current version: 23.7.4\n",
      "  latest version: 24.1.2\n",
      "\n",
      "Please update conda by running\n",
      "\n",
      "    $ conda update -n base -c defaults conda\n",
      "\n",
      "Or to minimize the number of packages updated during conda update use\n",
      "\n",
      "     conda install conda=24.1.2\n",
      "\n",
      "\n"
     ]
    }
   ],
   "source": [
    "conda install -c conda-forge imbalanced-learn\n"
   ]
  },
  {
   "cell_type": "code",
   "execution_count": 17,
   "id": "838093a0-85db-4046-b540-d5667ed3f225",
   "metadata": {
    "tags": []
   },
   "outputs": [],
   "source": [
    "from imblearn.combine import SMOTEENN"
   ]
  },
  {
   "cell_type": "code",
   "execution_count": 70,
   "id": "c3e75218-0804-4add-b272-4ae10cf12feb",
   "metadata": {
    "tags": []
   },
   "outputs": [],
   "source": [
    "#feature_vars = ['P_HABZONE_OPT', 'P_ESI','S_LOG_LUM', 'S_TIDAL_LOCK', 'P_TEMP_EQUIL', 'P_TYPE']\n",
    "#feature_vars = ['P_HABZONE_OPT', 'P_ESI', 'P_TYPE']\n",
    "feature_vars = ['P_FLUX', 'P_PERIOD', 'P_RADIUS', 'P_TEMP_EQUIL', 'S_RADIUS','S_TEMPERATURE', 'S_DISTANCE']\n",
    "\n",
    "\n",
    "X,y = newdata[feature_vars], newdata['P_HABITABLE']\n",
    "\n",
    "#resample = SMOTEENN()\n",
    "#Xnew, ynew = resample.fit_resample(X, y)"
   ]
  },
  {
   "cell_type": "code",
   "execution_count": null,
   "id": "decd2044-a723-4b57-9319-86203352113b",
   "metadata": {},
   "outputs": [],
   "source": []
  },
  {
   "cell_type": "code",
   "execution_count": 19,
   "id": "2f285000-972c-4838-929a-646bfbd1c734",
   "metadata": {
    "tags": []
   },
   "outputs": [
    {
     "data": {
      "text/html": [
       "<div>\n",
       "<style scoped>\n",
       "    .dataframe tbody tr th:only-of-type {\n",
       "        vertical-align: middle;\n",
       "    }\n",
       "\n",
       "    .dataframe tbody tr th {\n",
       "        vertical-align: top;\n",
       "    }\n",
       "\n",
       "    .dataframe thead th {\n",
       "        text-align: right;\n",
       "    }\n",
       "</style>\n",
       "<table border=\"1\" class=\"dataframe\">\n",
       "  <thead>\n",
       "    <tr style=\"text-align: right;\">\n",
       "      <th></th>\n",
       "      <th>P_HABITABLE</th>\n",
       "      <th>percentage</th>\n",
       "    </tr>\n",
       "  </thead>\n",
       "  <tbody>\n",
       "    <tr>\n",
       "      <th>1.0</th>\n",
       "      <td>5420</td>\n",
       "      <td>33.491936</td>\n",
       "    </tr>\n",
       "    <tr>\n",
       "      <th>2.0</th>\n",
       "      <td>5407</td>\n",
       "      <td>33.411605</td>\n",
       "    </tr>\n",
       "    <tr>\n",
       "      <th>0.0</th>\n",
       "      <td>5356</td>\n",
       "      <td>33.096459</td>\n",
       "    </tr>\n",
       "  </tbody>\n",
       "</table>\n",
       "</div>"
      ],
      "text/plain": [
       "     P_HABITABLE  percentage\n",
       "1.0         5420   33.491936\n",
       "2.0         5407   33.411605\n",
       "0.0         5356   33.096459"
      ]
     },
     "execution_count": 19,
     "metadata": {},
     "output_type": "execute_result"
    }
   ],
   "source": [
    "values = pd.DataFrame(ynew.value_counts())\n",
    "values['percentage'] = (values['P_HABITABLE']/ len(ynew))*100\n",
    "values"
   ]
  },
  {
   "cell_type": "code",
   "execution_count": 30,
   "id": "99721d13-6b64-4112-ab5a-50303baa5809",
   "metadata": {
    "tags": []
   },
   "outputs": [
    {
     "data": {
      "text/plain": [
       "(16107, 45)"
      ]
     },
     "execution_count": 30,
     "metadata": {},
     "output_type": "execute_result"
    }
   ],
   "source": [
    "Xnew.shape"
   ]
  },
  {
   "cell_type": "code",
   "execution_count": 73,
   "id": "8f1acc6d-a773-4ecd-9620-f1b539f93134",
   "metadata": {
    "tags": []
   },
   "outputs": [
    {
     "data": {
      "text/plain": [
       "0.0    5500\n",
       "2.0      40\n",
       "1.0      29\n",
       "Name: P_HABITABLE, dtype: int64"
      ]
     },
     "execution_count": 73,
     "metadata": {},
     "output_type": "execute_result"
    }
   ],
   "source": [
    "newdata['P_HABITABLE'].value_counts()"
   ]
  },
  {
   "cell_type": "markdown",
   "id": "cd09ab98-1ae3-4161-a904-8a5748a7f400",
   "metadata": {
    "tags": []
   },
   "source": [
    "## Split Data"
   ]
  },
  {
   "cell_type": "code",
   "execution_count": 35,
   "id": "88e4e925-fa45-4eb8-aeb1-47577666f657",
   "metadata": {},
   "outputs": [],
   "source": []
  },
  {
   "cell_type": "code",
   "execution_count": null,
   "id": "4846419a-1b59-4e20-8c53-3e0d0a715dee",
   "metadata": {},
   "outputs": [],
   "source": []
  },
  {
   "cell_type": "code",
   "execution_count": 71,
   "id": "79e110c8-17a2-4281-850e-e752e0f7c368",
   "metadata": {
    "tags": []
   },
   "outputs": [],
   "source": [
    "# Split the dataset into training and testing sets\n",
    "#X_train, X_test, y_train, y_test = train_test_split(Xnew, ynew, stratify=ynew, train_size=0.8, random_state=42)\n",
    "\n",
    "X_train, X_test, y_train, y_test = train_test_split(X, y, stratify=y, train_size=0.8, random_state=42)"
   ]
  },
  {
   "cell_type": "code",
   "execution_count": null,
   "id": "67de03d4-b744-4fa8-82ce-2ba08c3d5c88",
   "metadata": {},
   "outputs": [],
   "source": []
  },
  {
   "cell_type": "markdown",
   "id": "c7aa1d9a-be54-4331-a09a-9f2dbfc307df",
   "metadata": {
    "tags": []
   },
   "source": [
    "## Run Model "
   ]
  },
  {
   "cell_type": "code",
   "execution_count": 72,
   "id": "502be2f8-d94d-4a49-935c-6c987c786bf9",
   "metadata": {
    "tags": []
   },
   "outputs": [
    {
     "name": "stdout",
     "output_type": "stream",
     "text": [
      "Train score: 1.0\n",
      "Test score: 0.9982046678635548\n"
     ]
    }
   ],
   "source": [
    "dec_tree=DecisionTreeClassifier()\n",
    "dec_tree.fit(X_train,y_train)\n",
    "\n",
    "print('Train score: '+str(dec_tree.score(X_train,y_train)))\n",
    "print('Test score: '+str(dec_tree.score(X_test,y_test)))"
   ]
  },
  {
   "cell_type": "code",
   "execution_count": 31,
   "id": "5a371a60-96b7-4bd4-9426-bb3dcff00331",
   "metadata": {
    "tags": []
   },
   "outputs": [
    {
     "name": "stdout",
     "output_type": "stream",
     "text": [
      "Train score: 1.0\n",
      "Test score: 0.9996962332928311\n"
     ]
    }
   ],
   "source": []
  },
  {
   "cell_type": "code",
   "execution_count": 74,
   "id": "c20b48d6-7eaf-42d7-9b97-a5015ddb0bf0",
   "metadata": {
    "tags": []
   },
   "outputs": [
    {
     "data": {
      "text/html": [
       "<div>\n",
       "<style scoped>\n",
       "    .dataframe tbody tr th:only-of-type {\n",
       "        vertical-align: middle;\n",
       "    }\n",
       "\n",
       "    .dataframe tbody tr th {\n",
       "        vertical-align: top;\n",
       "    }\n",
       "\n",
       "    .dataframe thead th {\n",
       "        text-align: right;\n",
       "    }\n",
       "</style>\n",
       "<table border=\"1\" class=\"dataframe\">\n",
       "  <thead>\n",
       "    <tr style=\"text-align: right;\">\n",
       "      <th></th>\n",
       "      <th>Feature</th>\n",
       "      <th>Feature Importance</th>\n",
       "    </tr>\n",
       "  </thead>\n",
       "  <tbody>\n",
       "    <tr>\n",
       "      <th>0</th>\n",
       "      <td>P_FLUX</td>\n",
       "      <td>0.270667</td>\n",
       "    </tr>\n",
       "    <tr>\n",
       "      <th>1</th>\n",
       "      <td>P_PERIOD</td>\n",
       "      <td>0.015731</td>\n",
       "    </tr>\n",
       "    <tr>\n",
       "      <th>2</th>\n",
       "      <td>P_RADIUS</td>\n",
       "      <td>0.470203</td>\n",
       "    </tr>\n",
       "    <tr>\n",
       "      <th>3</th>\n",
       "      <td>P_TEMP_EQUIL</td>\n",
       "      <td>0.145577</td>\n",
       "    </tr>\n",
       "    <tr>\n",
       "      <th>4</th>\n",
       "      <td>S_RADIUS</td>\n",
       "      <td>0.080059</td>\n",
       "    </tr>\n",
       "    <tr>\n",
       "      <th>5</th>\n",
       "      <td>S_TEMPERATURE</td>\n",
       "      <td>0.000000</td>\n",
       "    </tr>\n",
       "    <tr>\n",
       "      <th>6</th>\n",
       "      <td>S_DISTANCE</td>\n",
       "      <td>0.017761</td>\n",
       "    </tr>\n",
       "  </tbody>\n",
       "</table>\n",
       "</div>"
      ],
      "text/plain": [
       "         Feature  Feature Importance\n",
       "0         P_FLUX            0.270667\n",
       "1       P_PERIOD            0.015731\n",
       "2       P_RADIUS            0.470203\n",
       "3   P_TEMP_EQUIL            0.145577\n",
       "4       S_RADIUS            0.080059\n",
       "5  S_TEMPERATURE            0.000000\n",
       "6     S_DISTANCE            0.017761"
      ]
     },
     "metadata": {},
     "output_type": "display_data"
    }
   ],
   "source": [
    "feature_importances=pd.DataFrame({'Feature':X.columns,'Feature Importance':dec_tree.feature_importances_})\n",
    "display(feature_importances)"
   ]
  },
  {
   "cell_type": "code",
   "execution_count": 75,
   "id": "9110e8ca-7c36-4bba-a19f-767ab74d222b",
   "metadata": {
    "tags": []
   },
   "outputs": [
    {
     "name": "stdout",
     "output_type": "stream",
     "text": [
      "              precision    recall  f1-score   support\n",
      "\n",
      "         0.0       1.00      1.00      1.00      1100\n",
      "         1.0       1.00      1.00      1.00         6\n",
      "         2.0       0.88      0.88      0.88         8\n",
      "\n",
      "    accuracy                           1.00      1114\n",
      "   macro avg       0.96      0.96      0.96      1114\n",
      "weighted avg       1.00      1.00      1.00      1114\n",
      "\n"
     ]
    }
   ],
   "source": [
    "predictions = dec_tree.predict(X_test)\n",
    "\n",
    "print(classification_report(y_test, predictions))"
   ]
  },
  {
   "cell_type": "code",
   "execution_count": null,
   "id": "b907df4e-1af3-4743-ba02-d957bd21442e",
   "metadata": {
    "tags": []
   },
   "outputs": [],
   "source": []
  },
  {
   "cell_type": "code",
   "execution_count": 86,
   "id": "7b34ae1e-313b-4561-878b-c4ceab334b68",
   "metadata": {
    "tags": []
   },
   "outputs": [
    {
     "name": "stdout",
     "output_type": "stream",
     "text": [
      "Train score: 1.0\n",
      "Test score: 0.9973070017953322\n"
     ]
    }
   ],
   "source": [
    "from sklearn.ensemble import RandomForestClassifier\n",
    "\n",
    "rf=RandomForestClassifier(n_estimators=500) #1000 decision makers is often a good number to go for\n",
    "rf.fit(X_train, y_train)\n",
    "\n",
    "print('Train score: '+str(rf.score(X_train,y_train)))\n",
    "print('Test score: '+str(rf.score(X_test,y_test)))"
   ]
  },
  {
   "cell_type": "code",
   "execution_count": null,
   "id": "407e29e6-b702-4e22-bc1c-20329c29aaef",
   "metadata": {},
   "outputs": [],
   "source": []
  },
  {
   "cell_type": "code",
   "execution_count": null,
   "id": "f1c23230-6dc0-400d-aae8-e7913d46a6da",
   "metadata": {},
   "outputs": [],
   "source": []
  },
  {
   "cell_type": "code",
   "execution_count": null,
   "id": "85ad2c9d-468e-44e5-848c-c2a4eff318bb",
   "metadata": {},
   "outputs": [],
   "source": []
  },
  {
   "cell_type": "code",
   "execution_count": null,
   "id": "70c324c6-ebb9-4cfc-9cc1-d0fe3e7892fc",
   "metadata": {},
   "outputs": [],
   "source": []
  },
  {
   "cell_type": "code",
   "execution_count": 24,
   "id": "6b86cadb-bf82-4d09-bf70-25ccb7600c43",
   "metadata": {
    "tags": []
   },
   "outputs": [],
   "source": [
    "proposed = pd.read_csv('proposed1.csv')"
   ]
  },
  {
   "cell_type": "code",
   "execution_count": 48,
   "id": "fe4baba9-064e-4f8c-8c26-67525e8a2b84",
   "metadata": {
    "tags": []
   },
   "outputs": [
    {
     "data": {
      "text/plain": [
       "['toi',\n",
       " 'tid',\n",
       " 'tfopwg_disp',\n",
       " 'rastr',\n",
       " 'ra',\n",
       " 'decstr',\n",
       " 'dec',\n",
       " 'st_pmra',\n",
       " 'st_pmdec',\n",
       " 'pl_tranmid',\n",
       " 'pl_orbper',\n",
       " 'pl_trandurh',\n",
       " 'pl_trandep',\n",
       " 'pl_rade',\n",
       " 'pl_insol',\n",
       " 'pl_eqt',\n",
       " 'st_tmag',\n",
       " 'st_dist',\n",
       " 'st_teff',\n",
       " 'st_logg',\n",
       " 'st_rad',\n",
       " 'toi_created',\n",
       " 'rowupdate']"
      ]
     },
     "execution_count": 48,
     "metadata": {},
     "output_type": "execute_result"
    }
   ],
   "source": [
    "proposed.columns.to_list()"
   ]
  },
  {
   "cell_type": "markdown",
   "id": "238c13af-0cb3-414d-91e0-0f219cfcbac4",
   "metadata": {
    "tags": []
   },
   "source": [
    "## Same columns: \n",
    "\n",
    "P_FLUX > pl_insol\n",
    "\n",
    "P_PERIOD > pl_orbper\n",
    "\n",
    "P_RADIUS > pl_rade\n",
    "\n",
    "P_TEMP_EQUIL > pl_eqt\n",
    "\n",
    "S_RADIUS > st_rad\n",
    "\n",
    "S_TEMPERATURE > st_teff\n",
    "\n",
    "S_DISTANCE > st_dist\n"
   ]
  },
  {
   "cell_type": "code",
   "execution_count": null,
   "id": "2b352fd5-4a61-430c-8bb6-953119e21b1b",
   "metadata": {
    "tags": []
   },
   "outputs": [],
   "source": []
  },
  {
   "cell_type": "code",
   "execution_count": 68,
   "id": "c8af3511-6769-4705-9be4-69e8efa38677",
   "metadata": {
    "collapsed": true,
    "jupyter": {
     "outputs_hidden": true
    },
    "tags": []
   },
   "outputs": [
    {
     "data": {
      "text/html": [
       "<div>\n",
       "<style scoped>\n",
       "    .dataframe tbody tr th:only-of-type {\n",
       "        vertical-align: middle;\n",
       "    }\n",
       "\n",
       "    .dataframe tbody tr th {\n",
       "        vertical-align: top;\n",
       "    }\n",
       "\n",
       "    .dataframe thead th {\n",
       "        text-align: right;\n",
       "    }\n",
       "</style>\n",
       "<table border=\"1\" class=\"dataframe\">\n",
       "  <thead>\n",
       "    <tr style=\"text-align: right;\">\n",
       "      <th></th>\n",
       "      <th>toi</th>\n",
       "      <th>tid</th>\n",
       "      <th>tfopwg_disp</th>\n",
       "      <th>rastr</th>\n",
       "      <th>ra</th>\n",
       "      <th>decstr</th>\n",
       "      <th>dec</th>\n",
       "      <th>st_pmra</th>\n",
       "      <th>st_pmdec</th>\n",
       "      <th>pl_tranmid</th>\n",
       "      <th>...</th>\n",
       "      <th>pl_rade</th>\n",
       "      <th>pl_insol</th>\n",
       "      <th>pl_eqt</th>\n",
       "      <th>st_tmag</th>\n",
       "      <th>st_dist</th>\n",
       "      <th>st_teff</th>\n",
       "      <th>st_logg</th>\n",
       "      <th>st_rad</th>\n",
       "      <th>toi_created</th>\n",
       "      <th>rowupdate</th>\n",
       "    </tr>\n",
       "  </thead>\n",
       "  <tbody>\n",
       "    <tr>\n",
       "      <th>0</th>\n",
       "      <td>1001.01</td>\n",
       "      <td>88863718</td>\n",
       "      <td>PC</td>\n",
       "      <td>08h10m19.31s</td>\n",
       "      <td>122.580465</td>\n",
       "      <td>-05d30m49.87s</td>\n",
       "      <td>-5.513852</td>\n",
       "      <td>-4.956</td>\n",
       "      <td>-15.555</td>\n",
       "      <td>2459987.949</td>\n",
       "      <td>...</td>\n",
       "      <td>11.21540</td>\n",
       "      <td>44464.500000</td>\n",
       "      <td>4045.000000</td>\n",
       "      <td>9.42344</td>\n",
       "      <td>295.862</td>\n",
       "      <td>7070.0</td>\n",
       "      <td>4.03</td>\n",
       "      <td>2.01</td>\n",
       "      <td>7/24/2019 15:58</td>\n",
       "      <td>4/3/2023 14:31</td>\n",
       "    </tr>\n",
       "    <tr>\n",
       "      <th>1</th>\n",
       "      <td>1007.01</td>\n",
       "      <td>65212867</td>\n",
       "      <td>PC</td>\n",
       "      <td>07h31m00.57s</td>\n",
       "      <td>112.752393</td>\n",
       "      <td>-04d27m48.09s</td>\n",
       "      <td>-4.463359</td>\n",
       "      <td>0.357</td>\n",
       "      <td>3.399</td>\n",
       "      <td>2459247.931</td>\n",
       "      <td>...</td>\n",
       "      <td>14.77520</td>\n",
       "      <td>448.744000</td>\n",
       "      <td>1282.000000</td>\n",
       "      <td>8.87759</td>\n",
       "      <td>283.291</td>\n",
       "      <td>6596.0</td>\n",
       "      <td>3.71</td>\n",
       "      <td>2.70</td>\n",
       "      <td>7/24/2019 15:58</td>\n",
       "      <td>10/29/2021 12:59</td>\n",
       "    </tr>\n",
       "    <tr>\n",
       "      <th>2</th>\n",
       "      <td>1009.01</td>\n",
       "      <td>107782586</td>\n",
       "      <td>PC</td>\n",
       "      <td>07h26m40.28s</td>\n",
       "      <td>111.667845</td>\n",
       "      <td>-24d27m43.6s</td>\n",
       "      <td>-24.462111</td>\n",
       "      <td>-3.297</td>\n",
       "      <td>4.849</td>\n",
       "      <td>2459229.231</td>\n",
       "      <td>...</td>\n",
       "      <td>NaN</td>\n",
       "      <td>1063.342296</td>\n",
       "      <td>1456.424653</td>\n",
       "      <td>8.43310</td>\n",
       "      <td>866.147</td>\n",
       "      <td>8868.7</td>\n",
       "      <td>NaN</td>\n",
       "      <td>NaN</td>\n",
       "      <td>7/24/2019 15:58</td>\n",
       "      <td>1/17/2024 10:08</td>\n",
       "    </tr>\n",
       "    <tr>\n",
       "      <th>3</th>\n",
       "      <td>1011.01</td>\n",
       "      <td>114018671</td>\n",
       "      <td>PC</td>\n",
       "      <td>07h35m56.34s</td>\n",
       "      <td>113.984761</td>\n",
       "      <td>-32d50m31.2s</td>\n",
       "      <td>-32.841999</td>\n",
       "      <td>145.102</td>\n",
       "      <td>-134.901</td>\n",
       "      <td>2459984.628</td>\n",
       "      <td>...</td>\n",
       "      <td>1.44656</td>\n",
       "      <td>575.597000</td>\n",
       "      <td>1364.000000</td>\n",
       "      <td>8.23880</td>\n",
       "      <td>52.620</td>\n",
       "      <td>5413.7</td>\n",
       "      <td>4.46</td>\n",
       "      <td>0.94</td>\n",
       "      <td>7/24/2019 15:58</td>\n",
       "      <td>3/22/2023 16:02</td>\n",
       "    </tr>\n",
       "    <tr>\n",
       "      <th>4</th>\n",
       "      <td>1012.01</td>\n",
       "      <td>427508467</td>\n",
       "      <td>APC</td>\n",
       "      <td>07h48m22.87s</td>\n",
       "      <td>117.095285</td>\n",
       "      <td>+06d47m06.23s</td>\n",
       "      <td>6.785064</td>\n",
       "      <td>-2.990</td>\n",
       "      <td>-0.029</td>\n",
       "      <td>2459252.510</td>\n",
       "      <td>...</td>\n",
       "      <td>24.81320</td>\n",
       "      <td>112144.000000</td>\n",
       "      <td>5098.000000</td>\n",
       "      <td>8.12718</td>\n",
       "      <td>295.959</td>\n",
       "      <td>8928.0</td>\n",
       "      <td>3.92</td>\n",
       "      <td>2.72</td>\n",
       "      <td>7/24/2019 15:58</td>\n",
       "      <td>3/10/2023 12:02</td>\n",
       "    </tr>\n",
       "  </tbody>\n",
       "</table>\n",
       "<p>5 rows × 23 columns</p>\n",
       "</div>"
      ],
      "text/plain": [
       "       toi        tid tfopwg_disp         rastr          ra         decstr  \\\n",
       "0  1001.01   88863718          PC  08h10m19.31s  122.580465  -05d30m49.87s   \n",
       "1  1007.01   65212867          PC  07h31m00.57s  112.752393  -04d27m48.09s   \n",
       "2  1009.01  107782586          PC  07h26m40.28s  111.667845   -24d27m43.6s   \n",
       "3  1011.01  114018671          PC  07h35m56.34s  113.984761   -32d50m31.2s   \n",
       "4  1012.01  427508467         APC  07h48m22.87s  117.095285  +06d47m06.23s   \n",
       "\n",
       "         dec  st_pmra  st_pmdec   pl_tranmid  ...   pl_rade       pl_insol  \\\n",
       "0  -5.513852   -4.956   -15.555  2459987.949  ...  11.21540   44464.500000   \n",
       "1  -4.463359    0.357     3.399  2459247.931  ...  14.77520     448.744000   \n",
       "2 -24.462111   -3.297     4.849  2459229.231  ...       NaN    1063.342296   \n",
       "3 -32.841999  145.102  -134.901  2459984.628  ...   1.44656     575.597000   \n",
       "4   6.785064   -2.990    -0.029  2459252.510  ...  24.81320  112144.000000   \n",
       "\n",
       "        pl_eqt  st_tmag  st_dist  st_teff  st_logg  st_rad      toi_created  \\\n",
       "0  4045.000000  9.42344  295.862   7070.0     4.03    2.01  7/24/2019 15:58   \n",
       "1  1282.000000  8.87759  283.291   6596.0     3.71    2.70  7/24/2019 15:58   \n",
       "2  1456.424653  8.43310  866.147   8868.7      NaN     NaN  7/24/2019 15:58   \n",
       "3  1364.000000  8.23880   52.620   5413.7     4.46    0.94  7/24/2019 15:58   \n",
       "4  5098.000000  8.12718  295.959   8928.0     3.92    2.72  7/24/2019 15:58   \n",
       "\n",
       "          rowupdate  \n",
       "0    4/3/2023 14:31  \n",
       "1  10/29/2021 12:59  \n",
       "2   1/17/2024 10:08  \n",
       "3   3/22/2023 16:02  \n",
       "4   3/10/2023 12:02  \n",
       "\n",
       "[5 rows x 23 columns]"
      ]
     },
     "execution_count": 68,
     "metadata": {},
     "output_type": "execute_result"
    }
   ],
   "source": [
    "proposed.head()"
   ]
  },
  {
   "cell_type": "code",
   "execution_count": 69,
   "id": "276319fe-e704-475e-9bd2-15f57b5aff59",
   "metadata": {
    "collapsed": true,
    "jupyter": {
     "outputs_hidden": true
    },
    "tags": []
   },
   "outputs": [
    {
     "data": {
      "text/plain": [
       "toi              0\n",
       "tid              0\n",
       "tfopwg_disp      0\n",
       "rastr            0\n",
       "ra               0\n",
       "decstr           0\n",
       "dec              0\n",
       "st_pmra         92\n",
       "st_pmdec        92\n",
       "pl_tranmid       0\n",
       "pl_orbper       78\n",
       "pl_trandurh      0\n",
       "pl_trandep       0\n",
       "pl_rade        349\n",
       "pl_insol        90\n",
       "pl_eqt         185\n",
       "st_tmag          0\n",
       "st_dist        158\n",
       "st_teff         92\n",
       "st_logg        584\n",
       "st_rad         349\n",
       "toi_created      0\n",
       "rowupdate        0\n",
       "dtype: int64"
      ]
     },
     "execution_count": 69,
     "metadata": {},
     "output_type": "execute_result"
    }
   ],
   "source": [
    "proposed.isna().sum()"
   ]
  },
  {
   "cell_type": "code",
   "execution_count": 77,
   "id": "55d33082-666e-4612-889b-59ff0955b541",
   "metadata": {
    "tags": []
   },
   "outputs": [],
   "source": [
    "proposedcopy = proposed.copy()\n",
    "\n",
    "objs = proposedcopy.select_dtypes(include='O')\n",
    "\n",
    "collist = list(objs)\n",
    "\n",
    "for col in collist:\n",
    "    encoder = LabelEncoder() \n",
    "    proposedcopy[col] = encoder.fit_transform(proposedcopy[col])"
   ]
  },
  {
   "cell_type": "code",
   "execution_count": 78,
   "id": "d1d73c1d-cfcb-4870-b917-4ad2f7317a9f",
   "metadata": {
    "tags": []
   },
   "outputs": [],
   "source": [
    "imputer = IterativeImputer(random_state=42)\n",
    "imputed = imputer.fit_transform(proposedcopy)\n",
    "newproposed = pd.DataFrame(imputed, columns=proposedcopy.columns)"
   ]
  },
  {
   "cell_type": "code",
   "execution_count": 79,
   "id": "e0176ea8-eb4b-4920-90fa-d8fb33a7755b",
   "metadata": {
    "collapsed": true,
    "jupyter": {
     "outputs_hidden": true
    },
    "tags": []
   },
   "outputs": [
    {
     "data": {
      "text/plain": [
       "toi            0\n",
       "tid            0\n",
       "tfopwg_disp    0\n",
       "rastr          0\n",
       "ra             0\n",
       "decstr         0\n",
       "dec            0\n",
       "st_pmra        0\n",
       "st_pmdec       0\n",
       "pl_tranmid     0\n",
       "pl_orbper      0\n",
       "pl_trandurh    0\n",
       "pl_trandep     0\n",
       "pl_rade        0\n",
       "pl_insol       0\n",
       "pl_eqt         0\n",
       "st_tmag        0\n",
       "st_dist        0\n",
       "st_teff        0\n",
       "st_logg        0\n",
       "st_rad         0\n",
       "toi_created    0\n",
       "rowupdate      0\n",
       "dtype: int64"
      ]
     },
     "execution_count": 79,
     "metadata": {},
     "output_type": "execute_result"
    }
   ],
   "source": [
    "newproposed.isna().sum()"
   ]
  },
  {
   "cell_type": "code",
   "execution_count": 79,
   "id": "90e87c66-6235-482e-872c-3513659d0476",
   "metadata": {
    "tags": []
   },
   "outputs": [
    {
     "name": "stderr",
     "output_type": "stream",
     "text": [
      "C:\\Users\\Huawei MateBook D14\\AppData\\Local\\Temp\\ipykernel_19920\\275294265.py:5: SettingWithCopyWarning: \n",
      "A value is trying to be set on a copy of a slice from a DataFrame\n",
      "\n",
      "See the caveats in the documentation: https://pandas.pydata.org/pandas-docs/stable/user_guide/indexing.html#returning-a-view-versus-a-copy\n",
      "  predict.rename(columns={'pl_insol': 'P_FLUX', 'pl_orbper': 'P_PERIOD', 'pl_rade': 'P_RADIUS', 'pl_eqt': 'P_TEMP_EQUIL', 'st_rad': 'S_RADIUS',\n"
     ]
    }
   ],
   "source": [
    "predictX = ['pl_insol', 'pl_orbper', 'pl_rade', 'pl_eqt', 'st_rad', 'st_teff', 'st_dist']\n",
    "\n",
    "predict = newproposed[predictX]\n",
    "\n",
    "predict.rename(columns={'pl_insol': 'P_FLUX', 'pl_orbper': 'P_PERIOD', 'pl_rade': 'P_RADIUS', 'pl_eqt': 'P_TEMP_EQUIL', 'st_rad': 'S_RADIUS', \n",
    "               'st_teff': 'S_TEMPERATURE', 'st_dist': 'S_DISTANCE'}, inplace=True)"
   ]
  },
  {
   "cell_type": "code",
   "execution_count": 80,
   "id": "742cf07c-f0de-435f-8780-de8c7f5c1b30",
   "metadata": {
    "tags": []
   },
   "outputs": [],
   "source": [
    "results = dec_tree.predict(predict)"
   ]
  },
  {
   "cell_type": "code",
   "execution_count": 81,
   "id": "5c1c5ef1-7274-4226-986c-89802ced4532",
   "metadata": {
    "tags": []
   },
   "outputs": [
    {
     "data": {
      "text/plain": [
       "0.0    4998\n",
       "2.0      19\n",
       "1.0       3\n",
       "dtype: int64"
      ]
     },
     "execution_count": 81,
     "metadata": {},
     "output_type": "execute_result"
    }
   ],
   "source": [
    "results = pd.Series(results)\n",
    "results.value_counts()"
   ]
  },
  {
   "cell_type": "code",
   "execution_count": 82,
   "id": "7f9165d5-2f24-456f-8bf9-789033e65686",
   "metadata": {
    "tags": []
   },
   "outputs": [
    {
     "name": "stderr",
     "output_type": "stream",
     "text": [
      "C:\\Users\\Huawei MateBook D14\\AppData\\Local\\Temp\\ipykernel_19920\\2859636108.py:1: SettingWithCopyWarning: \n",
      "A value is trying to be set on a copy of a slice from a DataFrame.\n",
      "Try using .loc[row_indexer,col_indexer] = value instead\n",
      "\n",
      "See the caveats in the documentation: https://pandas.pydata.org/pandas-docs/stable/user_guide/indexing.html#returning-a-view-versus-a-copy\n",
      "  predict['result'] = results\n"
     ]
    }
   ],
   "source": [
    "predict['result'] = results"
   ]
  },
  {
   "cell_type": "code",
   "execution_count": 42,
   "id": "2c0f46db-582a-4dd3-b8ee-6d5d0481f977",
   "metadata": {
    "tags": []
   },
   "outputs": [
    {
     "data": {
      "text/html": [
       "<div>\n",
       "<style scoped>\n",
       "    .dataframe tbody tr th:only-of-type {\n",
       "        vertical-align: middle;\n",
       "    }\n",
       "\n",
       "    .dataframe tbody tr th {\n",
       "        vertical-align: top;\n",
       "    }\n",
       "\n",
       "    .dataframe thead th {\n",
       "        text-align: right;\n",
       "    }\n",
       "</style>\n",
       "<table border=\"1\" class=\"dataframe\">\n",
       "  <thead>\n",
       "    <tr style=\"text-align: right;\">\n",
       "      <th></th>\n",
       "      <th>P_FLUX</th>\n",
       "      <th>P_PERIOD</th>\n",
       "      <th>P_RADIUS</th>\n",
       "      <th>P_TEMP_EQUIL</th>\n",
       "      <th>S_RADIUS</th>\n",
       "      <th>S_TEMPERATURE</th>\n",
       "      <th>S_DISTANCE</th>\n",
       "      <th>result</th>\n",
       "    </tr>\n",
       "  </thead>\n",
       "  <tbody>\n",
       "    <tr>\n",
       "      <th>0</th>\n",
       "      <td>44464.500000</td>\n",
       "      <td>1.931646</td>\n",
       "      <td>11.215400</td>\n",
       "      <td>4045.000000</td>\n",
       "      <td>2.010000</td>\n",
       "      <td>7070.0</td>\n",
       "      <td>295.862</td>\n",
       "      <td>0.0</td>\n",
       "    </tr>\n",
       "    <tr>\n",
       "      <th>1</th>\n",
       "      <td>448.744000</td>\n",
       "      <td>6.998921</td>\n",
       "      <td>14.775200</td>\n",
       "      <td>1282.000000</td>\n",
       "      <td>2.700000</td>\n",
       "      <td>6596.0</td>\n",
       "      <td>283.291</td>\n",
       "      <td>0.0</td>\n",
       "    </tr>\n",
       "    <tr>\n",
       "      <th>2</th>\n",
       "      <td>1063.342296</td>\n",
       "      <td>1.960028</td>\n",
       "      <td>7.118335</td>\n",
       "      <td>1456.424653</td>\n",
       "      <td>2.112755</td>\n",
       "      <td>8868.7</td>\n",
       "      <td>866.147</td>\n",
       "      <td>0.0</td>\n",
       "    </tr>\n",
       "    <tr>\n",
       "      <th>3</th>\n",
       "      <td>575.597000</td>\n",
       "      <td>2.470498</td>\n",
       "      <td>1.446560</td>\n",
       "      <td>1364.000000</td>\n",
       "      <td>0.940000</td>\n",
       "      <td>5413.7</td>\n",
       "      <td>52.620</td>\n",
       "      <td>0.0</td>\n",
       "    </tr>\n",
       "    <tr>\n",
       "      <th>4</th>\n",
       "      <td>112144.000000</td>\n",
       "      <td>0.884182</td>\n",
       "      <td>24.813200</td>\n",
       "      <td>5098.000000</td>\n",
       "      <td>2.720000</td>\n",
       "      <td>8928.0</td>\n",
       "      <td>295.959</td>\n",
       "      <td>0.0</td>\n",
       "    </tr>\n",
       "  </tbody>\n",
       "</table>\n",
       "</div>"
      ],
      "text/plain": [
       "          P_FLUX  P_PERIOD   P_RADIUS  P_TEMP_EQUIL  S_RADIUS  S_TEMPERATURE  \\\n",
       "0   44464.500000  1.931646  11.215400   4045.000000  2.010000         7070.0   \n",
       "1     448.744000  6.998921  14.775200   1282.000000  2.700000         6596.0   \n",
       "2    1063.342296  1.960028   7.118335   1456.424653  2.112755         8868.7   \n",
       "3     575.597000  2.470498   1.446560   1364.000000  0.940000         5413.7   \n",
       "4  112144.000000  0.884182  24.813200   5098.000000  2.720000         8928.0   \n",
       "\n",
       "   S_DISTANCE  result  \n",
       "0     295.862     0.0  \n",
       "1     283.291     0.0  \n",
       "2     866.147     0.0  \n",
       "3      52.620     0.0  \n",
       "4     295.959     0.0  "
      ]
     },
     "execution_count": 42,
     "metadata": {},
     "output_type": "execute_result"
    }
   ],
   "source": [
    "predict.head()"
   ]
  },
  {
   "cell_type": "code",
   "execution_count": 58,
   "id": "b6f36418-e905-4c43-9b6d-937ba084957a",
   "metadata": {
    "tags": []
   },
   "outputs": [
    {
     "data": {
      "text/plain": [
       "numpy.float64"
      ]
     },
     "execution_count": 58,
     "metadata": {},
     "output_type": "execute_result"
    }
   ],
   "source": [
    "type(predict['result'][0])"
   ]
  },
  {
   "cell_type": "code",
   "execution_count": 83,
   "id": "2816617e-e0f5-459e-b016-56c03722d397",
   "metadata": {
    "tags": []
   },
   "outputs": [],
   "source": [
    "hab = {}\n",
    "\n",
    "for i, element in enumerate(predict[\"result\"]):\n",
    "    if element == 1 or element == 2:\n",
    "        row = predict.iloc[i]\n",
    "        hab[i] = row\n"
   ]
  },
  {
   "cell_type": "code",
   "execution_count": 84,
   "id": "9bec7e0c-f31e-452c-a155-e1d40e5a73d4",
   "metadata": {
    "tags": []
   },
   "outputs": [],
   "source": [
    "hab = pd.DataFrame(hab).transpose()"
   ]
  },
  {
   "cell_type": "code",
   "execution_count": 85,
   "id": "90e2ce20-6c3f-45ba-bd61-8bd40bcfa539",
   "metadata": {
    "tags": []
   },
   "outputs": [
    {
     "data": {
      "text/html": [
       "<div>\n",
       "<style scoped>\n",
       "    .dataframe tbody tr th:only-of-type {\n",
       "        vertical-align: middle;\n",
       "    }\n",
       "\n",
       "    .dataframe tbody tr th {\n",
       "        vertical-align: top;\n",
       "    }\n",
       "\n",
       "    .dataframe thead th {\n",
       "        text-align: right;\n",
       "    }\n",
       "</style>\n",
       "<table border=\"1\" class=\"dataframe\">\n",
       "  <thead>\n",
       "    <tr style=\"text-align: right;\">\n",
       "      <th></th>\n",
       "      <th>P_FLUX</th>\n",
       "      <th>P_PERIOD</th>\n",
       "      <th>P_RADIUS</th>\n",
       "      <th>P_TEMP_EQUIL</th>\n",
       "      <th>S_RADIUS</th>\n",
       "      <th>S_TEMPERATURE</th>\n",
       "      <th>S_DISTANCE</th>\n",
       "      <th>result</th>\n",
       "    </tr>\n",
       "  </thead>\n",
       "  <tbody>\n",
       "    <tr>\n",
       "      <th>463</th>\n",
       "      <td>1.388026</td>\n",
       "      <td>1071.089845</td>\n",
       "      <td>2.240778</td>\n",
       "      <td>276.833818</td>\n",
       "      <td>0.701499</td>\n",
       "      <td>4755.33</td>\n",
       "      <td>20.5272</td>\n",
       "      <td>2.0</td>\n",
       "    </tr>\n",
       "    <tr>\n",
       "      <th>633</th>\n",
       "      <td>0.857412</td>\n",
       "      <td>243.938548</td>\n",
       "      <td>1.633089</td>\n",
       "      <td>245.424045</td>\n",
       "      <td>0.852643</td>\n",
       "      <td>5599.00</td>\n",
       "      <td>99.9023</td>\n",
       "      <td>2.0</td>\n",
       "    </tr>\n",
       "    <tr>\n",
       "      <th>643</th>\n",
       "      <td>0.290998</td>\n",
       "      <td>31.156121</td>\n",
       "      <td>2.432614</td>\n",
       "      <td>187.323524</td>\n",
       "      <td>0.128000</td>\n",
       "      <td>2808.00</td>\n",
       "      <td>52.3436</td>\n",
       "      <td>1.0</td>\n",
       "    </tr>\n",
       "    <tr>\n",
       "      <th>786</th>\n",
       "      <td>0.381980</td>\n",
       "      <td>77.253253</td>\n",
       "      <td>1.810310</td>\n",
       "      <td>200.507208</td>\n",
       "      <td>0.308919</td>\n",
       "      <td>3323.00</td>\n",
       "      <td>32.6094</td>\n",
       "      <td>2.0</td>\n",
       "    </tr>\n",
       "    <tr>\n",
       "      <th>2346</th>\n",
       "      <td>0.467105</td>\n",
       "      <td>742.856116</td>\n",
       "      <td>2.275614</td>\n",
       "      <td>210.849927</td>\n",
       "      <td>1.101940</td>\n",
       "      <td>5816.00</td>\n",
       "      <td>83.9132</td>\n",
       "      <td>2.0</td>\n",
       "    </tr>\n",
       "    <tr>\n",
       "      <th>2439</th>\n",
       "      <td>0.677144</td>\n",
       "      <td>722.261976</td>\n",
       "      <td>2.720708</td>\n",
       "      <td>231.360916</td>\n",
       "      <td>1.220590</td>\n",
       "      <td>5857.00</td>\n",
       "      <td>125.0770</td>\n",
       "      <td>2.0</td>\n",
       "    </tr>\n",
       "    <tr>\n",
       "      <th>2464</th>\n",
       "      <td>0.306659</td>\n",
       "      <td>703.793670</td>\n",
       "      <td>1.860295</td>\n",
       "      <td>189.794513</td>\n",
       "      <td>0.739835</td>\n",
       "      <td>4709.00</td>\n",
       "      <td>25.0039</td>\n",
       "      <td>2.0</td>\n",
       "    </tr>\n",
       "    <tr>\n",
       "      <th>2484</th>\n",
       "      <td>0.431256</td>\n",
       "      <td>718.180932</td>\n",
       "      <td>1.365309</td>\n",
       "      <td>206.682479</td>\n",
       "      <td>0.425623</td>\n",
       "      <td>3614.00</td>\n",
       "      <td>25.1426</td>\n",
       "      <td>1.0</td>\n",
       "    </tr>\n",
       "    <tr>\n",
       "      <th>2490</th>\n",
       "      <td>0.611236</td>\n",
       "      <td>741.425590</td>\n",
       "      <td>2.768348</td>\n",
       "      <td>225.513196</td>\n",
       "      <td>1.220390</td>\n",
       "      <td>5944.00</td>\n",
       "      <td>98.2063</td>\n",
       "      <td>2.0</td>\n",
       "    </tr>\n",
       "    <tr>\n",
       "      <th>2595</th>\n",
       "      <td>0.836482</td>\n",
       "      <td>710.698202</td>\n",
       "      <td>2.092840</td>\n",
       "      <td>243.912386</td>\n",
       "      <td>0.796254</td>\n",
       "      <td>5334.00</td>\n",
       "      <td>62.5050</td>\n",
       "      <td>2.0</td>\n",
       "    </tr>\n",
       "    <tr>\n",
       "      <th>2623</th>\n",
       "      <td>1.450571</td>\n",
       "      <td>522.627268</td>\n",
       "      <td>2.244543</td>\n",
       "      <td>279.901052</td>\n",
       "      <td>1.409730</td>\n",
       "      <td>6199.00</td>\n",
       "      <td>96.7153</td>\n",
       "      <td>2.0</td>\n",
       "    </tr>\n",
       "    <tr>\n",
       "      <th>2645</th>\n",
       "      <td>1.060150</td>\n",
       "      <td>236.475063</td>\n",
       "      <td>2.565380</td>\n",
       "      <td>258.798421</td>\n",
       "      <td>1.288670</td>\n",
       "      <td>6000.00</td>\n",
       "      <td>156.8730</td>\n",
       "      <td>2.0</td>\n",
       "    </tr>\n",
       "    <tr>\n",
       "      <th>2671</th>\n",
       "      <td>0.564765</td>\n",
       "      <td>714.692730</td>\n",
       "      <td>2.557044</td>\n",
       "      <td>221.098998</td>\n",
       "      <td>1.125770</td>\n",
       "      <td>6324.00</td>\n",
       "      <td>92.0015</td>\n",
       "      <td>2.0</td>\n",
       "    </tr>\n",
       "    <tr>\n",
       "      <th>3494</th>\n",
       "      <td>0.936397</td>\n",
       "      <td>346.161483</td>\n",
       "      <td>2.544994</td>\n",
       "      <td>250.890785</td>\n",
       "      <td>0.926030</td>\n",
       "      <td>5862.00</td>\n",
       "      <td>144.8660</td>\n",
       "      <td>2.0</td>\n",
       "    </tr>\n",
       "    <tr>\n",
       "      <th>3672</th>\n",
       "      <td>0.574856</td>\n",
       "      <td>170.611279</td>\n",
       "      <td>2.565617</td>\n",
       "      <td>222.080085</td>\n",
       "      <td>1.104730</td>\n",
       "      <td>6347.00</td>\n",
       "      <td>155.4830</td>\n",
       "      <td>2.0</td>\n",
       "    </tr>\n",
       "    <tr>\n",
       "      <th>3975</th>\n",
       "      <td>0.405846</td>\n",
       "      <td>832.923625</td>\n",
       "      <td>1.737378</td>\n",
       "      <td>203.568296</td>\n",
       "      <td>0.725064</td>\n",
       "      <td>4193.00</td>\n",
       "      <td>39.8890</td>\n",
       "      <td>2.0</td>\n",
       "    </tr>\n",
       "    <tr>\n",
       "      <th>4144</th>\n",
       "      <td>0.282476</td>\n",
       "      <td>1076.609417</td>\n",
       "      <td>2.751226</td>\n",
       "      <td>185.936690</td>\n",
       "      <td>1.087520</td>\n",
       "      <td>5848.00</td>\n",
       "      <td>121.5230</td>\n",
       "      <td>2.0</td>\n",
       "    </tr>\n",
       "    <tr>\n",
       "      <th>4564</th>\n",
       "      <td>0.653137</td>\n",
       "      <td>735.797917</td>\n",
       "      <td>2.767413</td>\n",
       "      <td>229.282417</td>\n",
       "      <td>1.245410</td>\n",
       "      <td>5972.63</td>\n",
       "      <td>109.9720</td>\n",
       "      <td>2.0</td>\n",
       "    </tr>\n",
       "    <tr>\n",
       "      <th>4567</th>\n",
       "      <td>0.839459</td>\n",
       "      <td>294.512987</td>\n",
       "      <td>2.759089</td>\n",
       "      <td>244.129155</td>\n",
       "      <td>1.394900</td>\n",
       "      <td>6002.00</td>\n",
       "      <td>98.2118</td>\n",
       "      <td>2.0</td>\n",
       "    </tr>\n",
       "    <tr>\n",
       "      <th>4589</th>\n",
       "      <td>0.378931</td>\n",
       "      <td>761.709228</td>\n",
       "      <td>2.557898</td>\n",
       "      <td>200.105851</td>\n",
       "      <td>1.067750</td>\n",
       "      <td>5599.17</td>\n",
       "      <td>159.0530</td>\n",
       "      <td>2.0</td>\n",
       "    </tr>\n",
       "    <tr>\n",
       "      <th>4590</th>\n",
       "      <td>0.301332</td>\n",
       "      <td>365.460660</td>\n",
       "      <td>2.700875</td>\n",
       "      <td>188.964848</td>\n",
       "      <td>1.067750</td>\n",
       "      <td>5599.17</td>\n",
       "      <td>159.0530</td>\n",
       "      <td>2.0</td>\n",
       "    </tr>\n",
       "    <tr>\n",
       "      <th>4614</th>\n",
       "      <td>1.352941</td>\n",
       "      <td>4.767442</td>\n",
       "      <td>1.036506</td>\n",
       "      <td>275.067610</td>\n",
       "      <td>0.125969</td>\n",
       "      <td>2824.00</td>\n",
       "      <td>26.7410</td>\n",
       "      <td>1.0</td>\n",
       "    </tr>\n",
       "  </tbody>\n",
       "</table>\n",
       "</div>"
      ],
      "text/plain": [
       "        P_FLUX     P_PERIOD  P_RADIUS  P_TEMP_EQUIL  S_RADIUS  S_TEMPERATURE  \\\n",
       "463   1.388026  1071.089845  2.240778    276.833818  0.701499        4755.33   \n",
       "633   0.857412   243.938548  1.633089    245.424045  0.852643        5599.00   \n",
       "643   0.290998    31.156121  2.432614    187.323524  0.128000        2808.00   \n",
       "786   0.381980    77.253253  1.810310    200.507208  0.308919        3323.00   \n",
       "2346  0.467105   742.856116  2.275614    210.849927  1.101940        5816.00   \n",
       "2439  0.677144   722.261976  2.720708    231.360916  1.220590        5857.00   \n",
       "2464  0.306659   703.793670  1.860295    189.794513  0.739835        4709.00   \n",
       "2484  0.431256   718.180932  1.365309    206.682479  0.425623        3614.00   \n",
       "2490  0.611236   741.425590  2.768348    225.513196  1.220390        5944.00   \n",
       "2595  0.836482   710.698202  2.092840    243.912386  0.796254        5334.00   \n",
       "2623  1.450571   522.627268  2.244543    279.901052  1.409730        6199.00   \n",
       "2645  1.060150   236.475063  2.565380    258.798421  1.288670        6000.00   \n",
       "2671  0.564765   714.692730  2.557044    221.098998  1.125770        6324.00   \n",
       "3494  0.936397   346.161483  2.544994    250.890785  0.926030        5862.00   \n",
       "3672  0.574856   170.611279  2.565617    222.080085  1.104730        6347.00   \n",
       "3975  0.405846   832.923625  1.737378    203.568296  0.725064        4193.00   \n",
       "4144  0.282476  1076.609417  2.751226    185.936690  1.087520        5848.00   \n",
       "4564  0.653137   735.797917  2.767413    229.282417  1.245410        5972.63   \n",
       "4567  0.839459   294.512987  2.759089    244.129155  1.394900        6002.00   \n",
       "4589  0.378931   761.709228  2.557898    200.105851  1.067750        5599.17   \n",
       "4590  0.301332   365.460660  2.700875    188.964848  1.067750        5599.17   \n",
       "4614  1.352941     4.767442  1.036506    275.067610  0.125969        2824.00   \n",
       "\n",
       "      S_DISTANCE  result  \n",
       "463      20.5272     2.0  \n",
       "633      99.9023     2.0  \n",
       "643      52.3436     1.0  \n",
       "786      32.6094     2.0  \n",
       "2346     83.9132     2.0  \n",
       "2439    125.0770     2.0  \n",
       "2464     25.0039     2.0  \n",
       "2484     25.1426     1.0  \n",
       "2490     98.2063     2.0  \n",
       "2595     62.5050     2.0  \n",
       "2623     96.7153     2.0  \n",
       "2645    156.8730     2.0  \n",
       "2671     92.0015     2.0  \n",
       "3494    144.8660     2.0  \n",
       "3672    155.4830     2.0  \n",
       "3975     39.8890     2.0  \n",
       "4144    121.5230     2.0  \n",
       "4564    109.9720     2.0  \n",
       "4567     98.2118     2.0  \n",
       "4589    159.0530     2.0  \n",
       "4590    159.0530     2.0  \n",
       "4614     26.7410     1.0  "
      ]
     },
     "execution_count": 85,
     "metadata": {},
     "output_type": "execute_result"
    }
   ],
   "source": [
    "hab"
   ]
  },
  {
   "cell_type": "code",
   "execution_count": null,
   "id": "d791db0e-a7de-4d16-ad83-a7563820a27d",
   "metadata": {},
   "outputs": [],
   "source": []
  },
  {
   "cell_type": "code",
   "execution_count": null,
   "id": "2b0dd373-396e-481f-bae7-b829fe80288e",
   "metadata": {
    "jupyter": {
     "source_hidden": true
    },
    "tags": []
   },
   "outputs": [],
   "source": []
  }
 ],
 "metadata": {
  "kernelspec": {
   "display_name": "Python 3 (ipykernel)",
   "language": "python",
   "name": "python3"
  },
  "language_info": {
   "codemirror_mode": {
    "name": "ipython",
    "version": 3
   },
   "file_extension": ".py",
   "mimetype": "text/x-python",
   "name": "python",
   "nbconvert_exporter": "python",
   "pygments_lexer": "ipython3",
   "version": "3.11.5"
  }
 },
 "nbformat": 4,
 "nbformat_minor": 5
}
